{
  "nbformat": 4,
  "nbformat_minor": 0,
  "metadata": {
    "colab": {
      "name": "N1_C1.ipynb",
      "provenance": [],
      "collapsed_sections": [],
      "include_colab_link": true
    },
    "kernelspec": {
      "name": "python3",
      "display_name": "Python 3"
    }
  },
  "cells": [
    {
      "cell_type": "markdown",
      "metadata": {
        "id": "view-in-github",
        "colab_type": "text"
      },
      "source": [
        "<a href=\"https://colab.research.google.com/github/jhonda18/Python1/blob/main/N1_C1.ipynb\" target=\"_parent\"><img src=\"https://colab.research.google.com/assets/colab-badge.svg\" alt=\"Open In Colab\"/></a>"
      ]
    },
    {
      "cell_type": "markdown",
      "metadata": {
        "id": "Rf_b8XQuMsgL"
      },
      "source": [
        "<p><img alt=\"Colaboratory logo\" height=\"140px\" src=\"https://upload.wikimedia.org/wikipedia/commons/archive/f/fb/20161010213812%21Escudo-UdeA.svg\" align=\"left\" hspace=\"10px\" vspace=\"0px\"></p>\n",
        "\n",
        "<h1> <b>Técnicas computacionales en Python para Ciencias Económicas - Universidad de Antioquia </b> </h1>\n",
        "<hr size=10 noshade color=\"green\">\n",
        "<p>\n",
        "<img alt=\"CC BY-NC-SA logo\" height=\"70px\" src=\"https://lahormigonera.info/wp-content/uploads/2014/04/by-nc-sa-ccLicense.png\" align=\"left\" hspace=\"0px\" vspace=\"0px\">\n",
        "</p>\n",
        "\n",
        "<div align=\"right\">  \n",
        "Este documento está bajo licencia <a href=\"https://creativecommons.org/licenses/by-nc-sa/4.0/deed.es\">[CC BY-NC-SA]</a><br> \n",
        "<a href=\"mailto:sheryl.avendano@udea.edu.co\"> ✉ Sheryl Avendaño </a> ,  <a href=\"mailto:sergio.sanes@udea.edu.co\"> ✉ Sergio Sanes </a>, <a href=\"mailto: mario.sucerquia@udea.edu.co\"> ✉ Mario Sucerquia </a><br>\n",
        "Versión actualizada: 3-Ago-2020\n",
        "</div>\n",
        "\n",
        "<br>\n",
        "\n",
        "**El presente curso hace parte de la Facultad de Ciencias Económicas (FCE) de la Universidad de Antioquia.**\n",
        "\n",
        "El curso será dictado en 16 sesiones o clases de 2 horas los días martes y jueves por medio de Google meeting. Para un total de dedicación temporal de 32 horas. \n"
      ]
    },
    {
      "cell_type": "markdown",
      "metadata": {
        "id": "VTrtLez0X9IK"
      },
      "source": [
        "# **Python**"
      ]
    },
    {
      "cell_type": "markdown",
      "metadata": {
        "id": "ATBAYYookHeS"
      },
      "source": [
        "> Python es un lenguaje de programación interpretado cuya filosofía hace hincapié en la legibilidad de su código.​ Se trata de un lenguaje de programación multiparadigma, ya que soporta orientación a objetos, programación imperativa y, en menor medida, programación funcional. Es un lenguaje interpretado, dinámico y multiplataforma. \n",
        "\n",
        "\n",
        "<div align=\"center\"> \n",
        "<img alt=\"Monty\" height=\"200px\" src=\"https://upload.wikimedia.org/wikipedia/commons/thumb/0/03/Monty_Python_O2_Arena.jpg/800px-Monty_Python_O2_Arena.jpg\" align=\"center\" hspace=\"0px\" vspace=\"0px\">\n",
        "</div>\n",
        "\n",
        "\n",
        "> Python fue creado a finales de los ochenta​ por Guido van Rossum en el Centro para las Matemáticas y la Informática (CWI, Centrum Wiskunde & Informatica), en los Países Bajos, como un sucesor del lenguaje de programación ABC, capaz de manejar excepciones e interactuar con el sistema operativo Amoeba. El nombre del lenguaje proviene de la afición de su creador por los humoristas británicos Monty Python.​\n",
        "\n",
        "Tomado de [Wikipedia](https://es.wikipedia.org/wiki/Python)"
      ]
    },
    {
      "cell_type": "markdown",
      "metadata": {
        "id": "zDJgei-AfpI6"
      },
      "source": [
        "## ¿Qué es un lenguaje de programación?\n",
        "\n",
        "Un lenguaje de programación es una versión informática de un\n",
        "\"pseudolenguaje para algoritmia\". \n",
        "\n",
        "La palabra “algoritmo” proviene del gran matemático árabe Mohamed Al Kho Warizmi, quien escribió entre los años 800 y 825 la obra “Quitab Al Jabr Al Mugabala” que incluía el sistema de numeración hindú y el concepto de cero, además del enunciado de las reglas paso a paso para sumar, restar, multiplicar y dividir números decimales. \n",
        "\n",
        "> “...es una descripción de los pasos básicos a seguir para cumplir determinada tarea... para que una computadora realice una tarea es necesario definir un algoritmo” (Torrealba 2004)\n",
        "\n"
      ]
    },
    {
      "cell_type": "markdown",
      "metadata": {
        "id": "U0Poolv5lUvd"
      },
      "source": [
        "## ¿Cuáles son sus componentes?\n",
        "\n",
        "Cualquier lenguaje formal (textual o gráfico), exige tener algunas reglas mínimas de construcción:\n",
        "\n",
        "* Símbolos (operaciones matemáticas, lógicas)\n",
        "* Palabras (íconos) que representan acciones\n",
        "* Reglas para construir instrucciones (sintaxis)\n",
        "\n",
        "La principal diferencia entre un algoritmo y un lenguaje de programación es que los últimos están diseñados con reglas aún más estrictas y tienen restricciones relacionadas con la naturaleza del computador."
      ]
    },
    {
      "cell_type": "markdown",
      "metadata": {
        "id": "3ggGUxPWfsM0"
      },
      "source": [
        "## Tipos de Lenguajes\n"
      ]
    },
    {
      "cell_type": "markdown",
      "metadata": {
        "id": "8EKlLDy0j5KW"
      },
      "source": [
        "<div  align=\"center\">\n",
        "<img alt=\"CC BY-NC-SA logo\" src=\"https://drive.google.com/uc?id=1n9pqYtHEAZ9gUeVRxn7-dzhGkkNMh7qD\" align=\"center\" hspace=\"0px\" vspace=\"0px\">\n",
        "</div>\n",
        "\n",
        "\n",
        "Los lenguajes de programación pueden seer clasificados de acuerdo a\n",
        "como los usa la maquina:\n",
        "\n",
        "* Lenguajes interpretados: las instrucciones son traducidas una a\n",
        "una por una aplicación (interprete) Ejemplos: Python, Perl, Bash\n",
        "* Lenguajes compilados: las instrucciones son traducidas en grupo\n",
        "por una aplicación (compilador) Ejemplos: Fortran, C/C++\n",
        "* Lenguajes intermedios: en parte compilados, en parte\n",
        "interpretados. Ejemplos: Java, C#\n",
        "\n",
        "Los lenguajes de programación también pueden seer clasificados de\n",
        "acuerdo a su nivel de abstracción:\n",
        "* Lenguajes de alto nivel. La información compleja es representada\n",
        "con objetos simples. Ejemplos: Python, C++, Perl\n",
        "* Lenguajes de bajo nivel. La información compleja debe\n",
        "representarse literalmente. Ejemplos: Fortran 77, C, BASIC.\n"
      ]
    },
    {
      "cell_type": "markdown",
      "metadata": {
        "id": "_iiQbGjJj_mL"
      },
      "source": [
        "## Entonces Python es...\n",
        "\n",
        "* Lenguaje de Alto nivel.\n",
        "* Lenguaje interpretado (scripts).\n",
        "* Software Libre (GPL).\n",
        "* Multiplataforma (S.O - Online)\n",
        "* Programación orientada a objetos.\n",
        "\n",
        "**Puntos fuertes**\n",
        "\n",
        "Gráficas, Machine learning, Instrumental, Software cientifico, Comunidad.\n",
        "\n",
        "**Puntos debiles**\n",
        "\n",
        "Programación del alto performance (que se puede solventar con el uso de Wrappers o funciones vectorizadas)\n"
      ]
    },
    {
      "cell_type": "markdown",
      "metadata": {
        "id": "EMap4PyIct7i"
      },
      "source": [
        "## ¿Cómo consigo Python?\n",
        "\n",
        "Existen varias versiones de python pero las podemos dividir en python 2.7 y python 3.x, ambas son muy diferentes pero Python 2 ya no recibe soporte. Este curso usará Python 3.\n"
      ]
    },
    {
      "cell_type": "markdown",
      "metadata": {
        "id": "PJwTrxg2obeG"
      },
      "source": [
        "### ANACONDA\n",
        "\n",
        "<div  align=\"center\">\n",
        "<img alt=\"anaconda logo\" height=\"200px\" src=\"https://upload.wikimedia.org/wikipedia/en/c/cd/Anaconda_Logo.png\" align=\"center\" hspace=\"0px\" vspace=\"0px\">\n",
        "</div>\n",
        "\n",
        "[Anaconda](https://www.anaconda.com/distribution/) es una distribución libre y abierta de Python y R que puede ser instalada en  Windows, Linux y MacOS. Su gestor de paquetes se conoce como conda y la [instalación](https://www.youtube.com/watch?v=52h3r_lROGY) es sencilla en Windows aunque consume muchos recursos.\n",
        "Si los recursos no son un problema se aconseja complementar con un editor tipo [VScode](https://www.youtube.com/watch?v=tZTpKF2pkQo). "
      ]
    },
    {
      "cell_type": "markdown",
      "metadata": {
        "id": "HC5JNBhlofQo"
      },
      "source": [
        "### Recursos online replt.it\n",
        "\n",
        "<p>\n",
        "<img alt=\"CC BY-NC-SA logo\" height=\"70px\" weight=\"300px\" src=\"https://encrypted-tbn0.gstatic.com/images?q=tbn:ANd9GcQDg8nsceKE9mMq5eBmy-jQWXbeI--eT4O2GgwsO9ErxsHF8lQr&s\" align=\"left\" hspace=\"0px\" vspace=\"0px\">\n",
        "</p>\n",
        "\n",
        "Opciones online hay varias pero [relp.it](https://repl.it/languages) es un página que ofrece editores, compiladores e intérpretes en la nube de varios lenguajes y en el cual podemos usar la consola y los scripts de python. Tiene la ventaja de poder crear documentos compartidos por 3 personas y es bastante fácil de [usar](https://www.youtube.com/watch?v=Nane8oy_yUI).\n"
      ]
    },
    {
      "cell_type": "markdown",
      "metadata": {
        "id": "DIgBlzn8zMYH"
      },
      "source": [
        "### Recursos online Google Colaboratory\n",
        "\n",
        "[Colaboratory](https://colab.research.google.com/) o Colab, es un proyecto de google en donde podemos trabajar con [notebooks](http://jupyter.org), que es un documento interactivo en donde puedes escribir en un lenguaje de marcado de texto sencillo conocido como [markdown](https://markdown.es/) (aunque también puedes usar algo de HTML) pero lo más importante puedes programar en Python [¡todo en el mismo lugar!](https://www.youtube.com/watch?v=inN8seMm7UI) "
      ]
    },
    {
      "cell_type": "code",
      "metadata": {
        "id": "SKIzsZ8koatW",
        "colab": {
          "base_uri": "https://localhost:8080/",
          "height": 35
        },
        "outputId": "600f449d-f3c7-4799-cd93-413a824580e0"
      },
      "source": [
        "print(\"¡Bienvenido a Colab!\")"
      ],
      "execution_count": null,
      "outputs": [
        {
          "output_type": "stream",
          "text": [
            "¡Bienvenido a Colab!\n"
          ],
          "name": "stdout"
        }
      ]
    },
    {
      "cell_type": "markdown",
      "metadata": {
        "id": "aLhiZWInXfQx"
      },
      "source": [
        "# **Comencemos a programar**\n",
        "\n",
        "Podemos hacer pruebas simples por la consola, usando la línea de comando. En repl.it:"
      ]
    },
    {
      "cell_type": "markdown",
      "metadata": {
        "id": "kr9SvFq7gkoH"
      },
      "source": [
        "\n",
        "\n",
        "![](https://storage.googleapis.com/replit/images/1550249580915_8dbd8e7a5a9ebac92b00e1fa23913565.pn)\n",
        "\n",
        "O podemos usar script o Notebooks para escribir códigos más complejos."
      ]
    },
    {
      "cell_type": "markdown",
      "metadata": {
        "id": "zbChdXhN2AEu"
      },
      "source": [
        "## Script\n",
        "Un script (“guión”) o archivo de órdenes o archivo de procesamiento\n",
        "por lotes. Básicamente es un programa usualmente simple, que por lo regular se almacena en un archivo de texto plano, que combinado con otros puede formar un módulo. Estos son casi siempre\n",
        "interpretados, pero no todo programa interpretado es considerado un\n",
        "script. El uso habitual de los scripts es realizar diversas tareas como\n",
        "combinar componentes, interactuar con el sistema operativo o con el\n",
        "usuario.\n",
        "\n",
        "Un ejemplo de lo que se puede hacer con [scripts](https://repl.it/@Shers/LeastSquaresRegression#main.py)"
      ]
    },
    {
      "cell_type": "markdown",
      "metadata": {
        "id": "O4See1ov46TC"
      },
      "source": [
        "## Ipython y Jupyter\n",
        "<p>\n",
        "<img alt=\"CC BY-NC-SA logo\" height=\"100px\" weight=\"300px\" src=\"https://e7.pngegg.com/pngimages/821/214/png-clipart-ipython-jupyter-shell-computer-software-shell-angle-text.png\" align=\"left\" hspace=\"10px\" vspace=\"0px\">\n",
        "</p>\n",
        "\n",
        "El cuaderno Notebook de [IPython](https://es.wikipedia.org/wiki/IPython) está basado en la web y es interactivo. Un notebook en IPython es un documento JSON que contiene una lista ordenada de entradas/salidas las cuales pueden tener código, texto, matemáticas, dibujos y media. Los notebooks de IPython pueden ser convertidos a otros formatos de archivos como HTML, presentaciones de diapositivas, LaTeX, PDF, Python, etc).\n",
        "<p>\n",
        "<img alt=\"CC BY-NC-SA logo\" height=\"120px\" weight=\"300px\" src=\"https://upload.wikimedia.org/wikipedia/commons/thumb/3/38/Jupyter_logo.svg/1200px-Jupyter_logo.svg.png\" align=\"right\" hspace=\"10px\" vspace=\"0px\">\n",
        "</p>\n",
        "\n",
        "El [Proyecto Jupyter](https://es.wikipedia.org/wiki/Proyecto_Jupyter) es una organización sin ánimo de lucro creada para \"desarrollar software de código abierto, estándares abiertos y servicios para computación interactiva en docenas de lenguajes de programación\". Según el sitio [web](https://jupyter.org/) del Proyecto Jupyter, \"Jupyter siempre será un software 100% de código abierto, de uso gratuito para todos y lanzado bajo los términos liberales de la licencia BSD modificada\".\n",
        "\n",
        "\n",
        "\n",
        "<p>\n",
        "<img alt=\"CC BY-NC-SA logo\" height=\"150px\" weight=\"300px\" src=\"https://upload.wikimedia.org/wikipedia/commons/8/80/Fernando_Perez_-_2012_FSF_Award_%28cropped%29.jpg\" align=\"left\" hspace=\"50px\" vspace=\"0px\">\n",
        "</p>\n",
        "\n",
        "[Fernando Pérez](http://fperez.org/) es un físico, desarrollador de software y promotor del software libre y creador de IPython. [Fernando Pérez](https://www.linkedin.com/in/fperezorg/?locale=es_ES) nació en Medellín, Colombia y realizó su pregrado en Física en la Universidad de Antioquia (1994) y su maestría en Física en la misma universidad Colombiana (1996). Posteriormente, obtuvo el título de doctorado en física de partículas de la Universidad de Colorado en Boulder (2002). \n",
        "\n",
        "\n",
        "\n",
        "\n",
        "\n",
        "\n",
        "\n"
      ]
    },
    {
      "cell_type": "code",
      "metadata": {
        "id": "EvrsN7QB4rrU",
        "colab": {
          "base_uri": "https://localhost:8080/",
          "height": 421
        },
        "outputId": "c4abb573-53c7-4daf-cdb6-10e84d47cb5c"
      },
      "source": [
        "from IPython.display import YouTubeVideo\n",
        "YouTubeVideo('inN8seMm7UI',width=800,height=400) "
      ],
      "execution_count": null,
      "outputs": [
        {
          "output_type": "execute_result",
          "data": {
            "text/html": [
              "\n",
              "        <iframe\n",
              "            width=\"800\"\n",
              "            height=\"400\"\n",
              "            src=\"https://www.youtube.com/embed/inN8seMm7UI\"\n",
              "            frameborder=\"0\"\n",
              "            allowfullscreen\n",
              "        ></iframe>\n",
              "        "
            ],
            "text/plain": [
              "<IPython.lib.display.YouTubeVideo at 0x7f232feb78d0>"
            ],
            "image/jpeg": "[encoded data removed]"
          },
          "metadata": {
            "tags": []
          },
          "execution_count": 2
        }
      ]
    },
    {
      "cell_type": "markdown",
      "metadata": {
        "id": "7p0cpmBn_oaM"
      },
      "source": [
        "## Shortcuts\n",
        "\n",
        "* Paleta de comandos: \"Ctrl+m+h\"\n",
        "* Celda de código abajo \"Ctrl+m+a\"\n",
        "* Celda de código arriba: \"Ctrl+m+b\"\n",
        "* Borrar celdas: \"Ctrl+m+d\"\n",
        "* Comentar: \"Crtl+/\" \n",
        "\n",
        "El simbolo **#** antes de una línea en las celdas de comandos indica que esa línea es un comentario y no debe interpretarse ni ejecutarse. \n",
        "\n"
      ]
    },
    {
      "cell_type": "code",
      "metadata": {
        "id": "GEUvY-_aAmV8",
        "colab": {
          "base_uri": "https://localhost:8080/",
          "height": 90
        },
        "outputId": "aca8075f-526d-4eeb-e541-f8ee3827640e"
      },
      "source": [
        "## MAGICS\n",
        "\n",
        "%ls           \n",
        "%dirs           \n",
        "%lsmagic               \n",
        "%matplotlib inline  \n",
        "## It allows the output of plotting command to be displayed inline i.e. in Jupyter lab UI.              \n",
        "%who  \n",
        "## will list all variables that exist in the global scope.           \n",
        "%time  \n",
        "## will give you information about the time taken in a single run of the code in your cell."
      ],
      "execution_count": null,
      "outputs": [
        {
          "output_type": "stream",
          "text": [
            "\u001b[0m\u001b[01;34msample_data\u001b[0m/\n",
            "YouTubeVideo\t \n",
            "CPU times: user 2 µs, sys: 0 ns, total: 2 µs\n",
            "Wall time: 5.01 µs\n"
          ],
          "name": "stdout"
        }
      ]
    },
    {
      "cell_type": "code",
      "metadata": {
        "id": "Wscu7Edf5CgD"
      },
      "source": [
        "#from google.colab import drive\n",
        "#drive.mount('/content/drive')"
      ],
      "execution_count": null,
      "outputs": []
    },
    {
      "cell_type": "code",
      "metadata": {
        "id": "-aeOTyKgBF0Y"
      },
      "source": [
        "## REFERENCE MANUAL\n",
        "? print"
      ],
      "execution_count": null,
      "outputs": []
    },
    {
      "cell_type": "markdown",
      "metadata": {
        "id": "rdL6kbHyXkAA"
      },
      "source": [
        "# **Las variables**"
      ]
    },
    {
      "cell_type": "markdown",
      "metadata": {
        "id": "B6BMFkwuDEZk"
      },
      "source": [
        "\n",
        "\n",
        "<div align=\"center\">\n",
        "<figure>\n",
        "  <img src=\"https://www.aprendeprogramando.es/images/blockly/variables-y-tipos-de-datos/variables-en-programacion.png\" alt=\"fig1\" width=\"500\" height=\"300\"/>\n",
        "  <figcaption> Identificador y Dato --> Variable. Imagen tomada de <a href=\"https://www.aprendeprogramando.es/cursos-online/blockly/variables-y-tipos-de-datos/que-es-una-variable\">aquí</a> </figcaption>\n",
        "</figure>\n",
        "</div>\n",
        "\n",
        " "
      ]
    },
    {
      "cell_type": "code",
      "metadata": {
        "id": "j1xDng9zFSJ2",
        "colab": {
          "base_uri": "https://localhost:8080/",
          "height": 35
        },
        "outputId": "afd956d3-0a6b-4ec7-df83-5cc2965dd748"
      },
      "source": [
        "mi_variable = 1\n",
        "print(mi_variable)"
      ],
      "execution_count": null,
      "outputs": [
        {
          "output_type": "stream",
          "text": [
            "1\n"
          ],
          "name": "stdout"
        }
      ]
    },
    {
      "cell_type": "code",
      "metadata": {
        "id": "tJtCyD31FW4o",
        "colab": {
          "base_uri": "https://localhost:8080/",
          "height": 35
        },
        "outputId": "07b52b6c-ec83-4905-bbaf-68c4d9973a79"
      },
      "source": [
        "mi_variable = 5\n",
        "#En jupyter podemos ver el contenido de la última línea sin necesidad de imprimir\n",
        "mi_variable"
      ],
      "execution_count": null,
      "outputs": [
        {
          "output_type": "execute_result",
          "data": {
            "text/plain": [
              "5"
            ]
          },
          "metadata": {
            "tags": []
          },
          "execution_count": 7
        }
      ]
    },
    {
      "cell_type": "markdown",
      "metadata": {
        "id": "1CRFuc7tFpVr"
      },
      "source": [
        "<div  align=\"center\">\n",
        "<img alt=\"CC BY-NC-SA logo\" src=\"https://drive.google.com/uc?id=1ZIOJx96dyf8bE0AHreOAKl2i-huANfV5\" align=\"center\" hspace=\"0px\" vspace=\"0px\">\n",
        "</div>\n"
      ]
    },
    {
      "cell_type": "markdown",
      "metadata": {
        "id": "dnUDZ7d1GMpR"
      },
      "source": [
        "## Nombres prohibidos\n",
        "\n",
        "| Nombres incorrectos | Nombres Correctos      |\n",
        "| ------------------- | -----------------------|\n",
        "| Mal nombre = 9.8    | buen_nombre = 9.8      |\n",
        "| 25Baam = 75         | no_nums_init25 = 75    |\n",
        "| fisic@ = 6.4        | solo_usar-barras = 6.4 |\n",
        "| input = 2           | input_reservada = 2    |\n",
        "\n",
        "Para saber más sobre las variables reservadas podemos visitar [la documuentación](https://docs.python.org/3/reference/lexical_analysis.html#keywords)"
      ]
    },
    {
      "cell_type": "markdown",
      "metadata": {
        "id": "kov3AvBSFSkC"
      },
      "source": [
        "## En python todo es un objeto\n",
        "\n",
        "En Python las variables son nuestros simbolos los cuales son “tipeadas” dinamicamente. Es decir una misma variable puede ser de diferentes tipos\n",
        "\n",
        "<div  align=\"center\">\n",
        "<img alt=\"CC BY-NC-SA logo\" src=\"https://drive.google.com/uc?id=134sgQLUVDbDqpjBtOwBaJszcNLGCwV64\" align=\"center\" hspace=\"0px\" vspace=\"0px\">\n",
        "</div>\n",
        "\n"
      ]
    },
    {
      "cell_type": "code",
      "metadata": {
        "id": "WYzMfIS5JSYn",
        "colab": {
          "base_uri": "https://localhost:8080/",
          "height": 35
        },
        "outputId": "8c9bc72c-55e3-4470-a56f-4879ee9547c0"
      },
      "source": [
        "var = 1\n",
        "print(type(var))"
      ],
      "execution_count": null,
      "outputs": [
        {
          "output_type": "stream",
          "text": [
            "<class 'int'>\n"
          ],
          "name": "stdout"
        }
      ]
    },
    {
      "cell_type": "code",
      "metadata": {
        "id": "hf_VLKdGJU6x",
        "colab": {
          "base_uri": "https://localhost:8080/",
          "height": 35
        },
        "outputId": "cebb2602-82c2-4631-9bb7-33e27e1c4896"
      },
      "source": [
        "var = 7.8\n",
        "print(type(var))"
      ],
      "execution_count": null,
      "outputs": [
        {
          "output_type": "stream",
          "text": [
            "<class 'float'>\n"
          ],
          "name": "stdout"
        }
      ]
    },
    {
      "cell_type": "code",
      "metadata": {
        "id": "QwoG1OxyJWsE",
        "colab": {
          "base_uri": "https://localhost:8080/",
          "height": 35
        },
        "outputId": "d03828ae-52d5-4cd3-8b75-78d8e24b27f0"
      },
      "source": [
        "var = \"Recuerda que es un ejemplo, las variables deben tener mejores nombres ;)\"\n",
        "print(type(var))"
      ],
      "execution_count": null,
      "outputs": [
        {
          "output_type": "stream",
          "text": [
            "<class 'str'>\n"
          ],
          "name": "stdout"
        }
      ]
    },
    {
      "cell_type": "code",
      "metadata": {
        "id": "8ZFX2gKxJb3Y",
        "colab": {
          "base_uri": "https://localhost:8080/",
          "height": 35
        },
        "outputId": "871c872d-de92-4340-ce5a-abb0289bacf0"
      },
      "source": [
        "var = 4 + 6j\n",
        "print(type(var))"
      ],
      "execution_count": null,
      "outputs": [
        {
          "output_type": "stream",
          "text": [
            "<class 'complex'>\n"
          ],
          "name": "stdout"
        }
      ]
    },
    {
      "cell_type": "code",
      "metadata": {
        "id": "nFXWgCHAJxa_",
        "colab": {
          "base_uri": "https://localhost:8080/",
          "height": 35
        },
        "outputId": "6710a454-c66e-4ed3-ec80-f638ae0016bb"
      },
      "source": [
        "var = True\n",
        "print(type(var))"
      ],
      "execution_count": null,
      "outputs": [
        {
          "output_type": "stream",
          "text": [
            "<class 'bool'>\n"
          ],
          "name": "stdout"
        }
      ]
    },
    {
      "cell_type": "markdown",
      "metadata": {
        "id": "IEFxCVQKKHbg"
      },
      "source": [
        "La función **type()** es una función build-in o precompilada que Python traer por defecto y me permite conocer la clase de un objeto:\n",
        "\n",
        "<div  align=\"center\">\n",
        "<img alt=\"CC BY-NC-SA logo\" src=\"https://drive.google.com/uc?id=1du_G6gl_qlt4rlfG-OrRnjvhk2lWWDYS\" align=\"center\" hspace=\"0px\" vspace=\"0px\">\n",
        "</div>\n"
      ]
    },
    {
      "cell_type": "markdown",
      "metadata": {
        "id": "AF0fL6r3Mgg2"
      },
      "source": [
        "##Atributos y métodos\n",
        "<img src=\"https://s3-api.us-geo.objectstorage.softlayer.net/cf-courses-data/CognitiveClass/PY0101EN/Chapter%203/Images/ClassesObj.png\" width=\"500\" />\n",
        "\n",
        "\n",
        "<img src=\"https://s3-api.us-geo.objectstorage.softlayer.net/cf-courses-data/CognitiveClass/PY0101EN/Chapter%203/Images/ClassesMethod.png\" width=\"500\" /> "
      ]
    },
    {
      "cell_type": "markdown",
      "metadata": {
        "id": "tW9CFIZLMIxM"
      },
      "source": [
        "## Clases básicas\n",
        "\n",
        "En python las clases más basicas son aquellas que no son iterables y que no poseen muchos métodos asociados. \n",
        "\n",
        "```python\n",
        "int()\n",
        "float()\n",
        "complex()\n",
        "bool()\n",
        "```"
      ]
    },
    {
      "cell_type": "code",
      "metadata": {
        "id": "2wblR6S_MVjt",
        "colab": {
          "base_uri": "https://localhost:8080/",
          "height": 308
        },
        "outputId": "cc1564d3-40ba-496a-d234-0cfc13ce4be2"
      },
      "source": [
        "#@title Clases sencillas, atributos y métodos {display-mode: \"form\"}\n",
        "variables = 5,2.5,2+5j,True\n",
        "for v in variables:\n",
        "  print(\"Clase:\",type(v))\n",
        "  methods = [m for m in dir(v) if not m.startswith('__') and callable(getattr(v, m))]\n",
        "  attr = [m for m in dir(v) if not m.startswith('__') and not callable(getattr(v, m))]\n",
        "  print(\"Atributos:\",attr)\n",
        "  print(\"Métodos:\",methods,end=\"\\n\\n\")"
      ],
      "execution_count": null,
      "outputs": [
        {
          "output_type": "stream",
          "text": [
            "Clase: <class 'int'>\n",
            "Atributos: ['denominator', 'imag', 'numerator', 'real']\n",
            "Métodos: ['bit_length', 'conjugate', 'from_bytes', 'to_bytes']\n",
            "\n",
            "Clase: <class 'float'>\n",
            "Atributos: ['imag', 'real']\n",
            "Métodos: ['as_integer_ratio', 'conjugate', 'fromhex', 'hex', 'is_integer']\n",
            "\n",
            "Clase: <class 'complex'>\n",
            "Atributos: ['imag', 'real']\n",
            "Métodos: ['conjugate']\n",
            "\n",
            "Clase: <class 'bool'>\n",
            "Atributos: ['denominator', 'imag', 'numerator', 'real']\n",
            "Métodos: ['bit_length', 'conjugate', 'from_bytes', 'to_bytes']\n",
            "\n"
          ],
          "name": "stdout"
        }
      ]
    },
    {
      "cell_type": "code",
      "metadata": {
        "id": "FRVbhOoPdiiA",
        "cellView": "form",
        "colab": {
          "base_uri": "https://localhost:8080/",
          "height": 54
        },
        "outputId": "6d5624b4-c05a-4598-d6f6-5941e89a22f0"
      },
      "source": [
        "#@title Ingresa un número real (float) y verifica si es entero\n",
        "\n",
        "numero = 6.5 #@param {type:\"number\"}\n",
        "print(\"La clase es\",type(numero))\n",
        "print(\"¿Es un entero?\",numero.is_integer())"
      ],
      "execution_count": null,
      "outputs": [
        {
          "output_type": "stream",
          "text": [
            "La clase es <class 'float'>\n",
            "¿Es un entero? False\n"
          ],
          "name": "stdout"
        }
      ]
    },
    {
      "cell_type": "markdown",
      "metadata": {
        "id": "pduoeF-pn5sf"
      },
      "source": [
        "## Operaciones con las clases sencillas\n",
        "\n",
        "Los operadores hacen referencia a las expresiones que pueden manipular el valor de datos o indicar como se deben manipular a los que se conocen como operandos. En el lenguaje Python podemos encontrar siguientes tipos de operadores:\n",
        "\n",
        "* Operadores aritméticos\n",
        "* Operadores de asignación\n",
        "* Operadores de comparación (relacionales)\n",
        "* Operadores lógicos\n",
        "* Operadores de identidad y pertenencia\n",
        "* Operadores de Bitwise\n"
      ]
    },
    {
      "cell_type": "markdown",
      "metadata": {
        "id": "TER9-3dAvXyx"
      },
      "source": [
        "### Operadores aritméticos\n",
        "\n",
        "Este tipo de operadores permite ejecutar operaciones aritméticas entre operandos.\n",
        "\n",
        "<font face=\"Verdana\">\n",
        "\n",
        "|Operador|Descripción|Ejemplo|\n",
        "|-|-|-|\n",
        "|+|Suma los operandos| var1 + var2|\n",
        "|-|Resta los operandos| var1 - var2|\n",
        "|*|Multiplica los operandos| var1*var2|\n",
        "|/|Divide los operandos| var1/var2|\n",
        "|%|Halla el módulo entre los operandos| var1%var2|\n",
        "|**|Realiza cálculos de potencia entre los operandos| var1**var2|\n",
        "|//|Divide de forma entera  los operandos| var1//var2|\n"
      ]
    },
    {
      "cell_type": "code",
      "metadata": {
        "id": "WJTfxkSvwk9R",
        "colab": {
          "base_uri": "https://localhost:8080/",
          "height": 145
        },
        "outputId": "5386951d-5ae3-40e1-9a31-c31469eb6ab4"
      },
      "source": [
        "var1 = 5\n",
        "var2 = 2\n",
        "print(\"var1 + var2 = \",var1 + var2)\n",
        "print(\"var1 - var2 =\",var1 - var2)\n",
        "print(\"var1 * var2 =\",var1 * var2)\n",
        "print(\"var1 / var2 =\",var1 / var2)\n",
        "print(\"var1 % var2 =\",var1 % var2)\n",
        "print(\"var1 ** var2 =\",var1 ** var2)\n",
        "print(\"var1 // var2 =\",var1 // var2)"
      ],
      "execution_count": null,
      "outputs": [
        {
          "output_type": "stream",
          "text": [
            "var1 + var2 =  7\n",
            "var1 - var2 = 3\n",
            "var1 * var2 = 10\n",
            "var1 / var2 = 2.5\n",
            "var1 % var2 = 1\n",
            "var1 ** var2 = 25\n",
            "var1 // var2 = 2\n"
          ],
          "name": "stdout"
        }
      ]
    },
    {
      "cell_type": "markdown",
      "metadata": {
        "id": "0gCj_1bdx74A"
      },
      "source": [
        "El orden normal de operaciones es el mismo usado en matemáticas:\n",
        "\n",
        "1. Paréntesis\n",
        "2. Exponente\n",
        "3. Multiplicación, División\n",
        "4. Suma, Resta"
      ]
    },
    {
      "cell_type": "code",
      "metadata": {
        "id": "6NKDMM6BySyd",
        "colab": {
          "base_uri": "https://localhost:8080/",
          "height": 54
        },
        "outputId": "b4ff2e71-f78c-479a-81d1-e728f1c35a35"
      },
      "source": [
        "print(12**1/12)\n",
        "print(12 ** ( 1/12 ) )"
      ],
      "execution_count": null,
      "outputs": [
        {
          "output_type": "stream",
          "text": [
            "1.0\n",
            "1.2300755055779713\n"
          ],
          "name": "stdout"
        }
      ]
    },
    {
      "cell_type": "markdown",
      "metadata": {
        "id": "NlWayVYpnyZy"
      },
      "source": [
        "### Operadores de asignación \n",
        "\n",
        "Este tipo de operadores permite la asignación entre operandos y son básicamente variaciones del operador \"=\"\n",
        "\n",
        "<font face=\"Verdana\">\n",
        "\n",
        "|Operador|Descripción|Ejemplo|\n",
        "|-|-|-|\n",
        "|=|Asigna al operando izquierdo el valor del operando derecho| var = 5 + 4|\n",
        "|+=|Suma al operando izquierdo el valor del operando derecho| var += 5|\n",
        "|-=|Resta al operando izquierdo el valor del operando derecho| var -= 5|\n",
        "|*=|Multiplica el operando izquierdo con el valor del operando derecho| var *= 5|\n",
        "|/=|Divide el operando izquierdo con el valor del operando derecho| var /= 5|\n",
        "|**=|Eleva al operando izquierdo al valor del operando derecho| var **= 5|\n",
        "|//=|Divide en forma entera al operando izquierdo con el valor del operando derecho| c //= 5|\n",
        "|%=|Calcula el módulo entre el operando izquierdo y el derecho operando derecho| var %= 5|\n"
      ]
    },
    {
      "cell_type": "code",
      "metadata": {
        "id": "5ATKxrRGpu8D",
        "colab": {
          "base_uri": "https://localhost:8080/",
          "height": 54
        },
        "outputId": "47a9eeb5-5109-4efb-b285-3f335db7c96b"
      },
      "source": [
        "var = 5 \n",
        "print(\"El valor inicial de var es \",var)\n",
        "var +=5 # var = var + 5\n",
        "print(\"El valor aumentado de var es \",var)"
      ],
      "execution_count": null,
      "outputs": [
        {
          "output_type": "stream",
          "text": [
            "El valor inicial de var es  5\n",
            "El valor aumentado de var es  10\n"
          ],
          "name": "stdout"
        }
      ]
    },
    {
      "cell_type": "markdown",
      "metadata": {
        "id": "p9NQxwcpywIS"
      },
      "source": [
        "### Operadores relacionales \n",
        "\n",
        "Este tipo de operadores permite comparar entre operandos y su resultado siempre es una variable booleana. \n",
        "\n",
        "<font face=\"Verdana\">\n",
        "\n",
        "|Operador|Descripción|Ejemplo|\n",
        "|-|-|-|\n",
        "|==|Evalua si los valores de los operandos sean iguales| var1 == var2|\n",
        "|!=|Evalua si los valores de los operandos sean diferentes| var1 != var2|\n",
        "|>|Evalua si el valor de operando de la izquierda es mayor que el de la derecha| var1 > var2|\n",
        "|<|Evalua si el valor de operando de la izquierda es menor que el de la derecha| var1 > var2|\n",
        "|>=|Evalua si el valor de operando de la izquierda es mayor o igual que el de la derecha| var1 >= var2|\n",
        "|<=|Evalua si el valor de operando de la izquierda es menor o igual que el de la derecha| var1 <= var2|\n"
      ]
    },
    {
      "cell_type": "code",
      "metadata": {
        "id": "nEJ3n7QHz4WV",
        "colab": {
          "base_uri": "https://localhost:8080/",
          "height": 72
        },
        "outputId": "9ed46d1a-59e5-4565-9a1c-4cd2df83dff0"
      },
      "source": [
        "var1 = 6.7\n",
        "var2 = -2.6\n",
        "print(\"¿var1 == var2? \",var1 == var2)\n",
        "print(\"¿var1 != var2?\",var1 != var2)\n",
        "print(\"¿var1 > var2?\",var1 > var2)"
      ],
      "execution_count": null,
      "outputs": [
        {
          "output_type": "stream",
          "text": [
            "¿var1 == var2?  False\n",
            "¿var1 != var2? True\n",
            "¿var1 > var2? True\n"
          ],
          "name": "stdout"
        }
      ]
    },
    {
      "cell_type": "markdown",
      "metadata": {
        "id": "roB6AJgQGn5I"
      },
      "source": [
        "### Operadores lógicos \n",
        "\n",
        "Este tipo de operadores permite comparar sentencias entre operandos y su resultado siempre es una variable booleana. \n",
        "\n",
        "<font face=\"Verdana\">\n",
        "\n",
        "|Operador|Descripción|Ejemplo|\n",
        "|-|-|-|\n",
        "|and|Evalua los operandos y sólo es verdadero cuando ambos son verdaderos| var1 and var2|\n",
        "|or|Evalua los operandos y sólo es falso cuando ambos son falsos| var1 or var2|\n",
        "|not|Negación del operando| not var1|\n"
      ]
    },
    {
      "cell_type": "code",
      "metadata": {
        "id": "xmovJnOvI4kW",
        "colab": {
          "base_uri": "https://localhost:8080/",
          "height": 108
        },
        "outputId": "f6770135-cc3c-427d-8566-8afad3954e19"
      },
      "source": [
        "value = 5.0\n",
        "var1 = value%1 == 0\n",
        "var2 = 0 <= value < 10\n",
        "var3 = value%2 != 0\n",
        "print('¿Es un entero?', var1)\n",
        "print('¿Está entre [0,10)?',var2)\n",
        "print('¿No es divisible por 2?',var3)\n",
        "print('¿Es un digito?', var1 and var2)\n",
        "print('¿No es par?', not var1 or not var2)"
      ],
      "execution_count": null,
      "outputs": [
        {
          "output_type": "stream",
          "text": [
            "¿Es un entero? True\n",
            "¿Está entre [0,10)? True\n",
            "¿No es divisible por 2? True\n",
            "¿Es un digito? True\n",
            "¿No es par? False\n"
          ],
          "name": "stdout"
        }
      ]
    },
    {
      "cell_type": "markdown",
      "metadata": {
        "id": "reLJGvlLz341"
      },
      "source": [
        "### Operadores de identidad y pertenencia \n",
        "\n",
        "Este tipo de operadores permite comparar entre direcciones de operandos y su contenido, su resultado siempre es una variable booleana. \n",
        "\n",
        "<font face=\"Verdana\">\n",
        "\n",
        "|Operador|Descripción|Ejemplo|\n",
        "|-|-|-|\n",
        "|is|Evalua si las direcciones de los operandos son iguales| var1 is var2|\n",
        "|is not|Evalua si las direcciones de los operandos son iguales| var1 is not var2|\n",
        "|in|Evalua si un valor está contenido (o pertenece) en otro| var1 in var2|\n",
        "|not in|Evalua si un valor no está contenido (o pertenece) en otro| var1 not in var2|\n"
      ]
    },
    {
      "cell_type": "code",
      "metadata": {
        "id": "Eh9sUWiwFc9P",
        "colab": {
          "base_uri": "https://localhost:8080/",
          "height": 90
        },
        "outputId": "cfaa045c-559e-4040-da25-96b5eea49e68"
      },
      "source": [
        "var1 = [1,2] #Esto lo veremos más adelante\n",
        "var2 = [1,2] \n",
        "var3 = 1\n",
        "print('var1 is var2?',var1 is var2)\n",
        "print('var1 is not var2?',var1 is not var2)\n",
        "print('var3 in var2?',var3 in var2)\n",
        "print('var3 not in var1?',var3 not in var1)"
      ],
      "execution_count": null,
      "outputs": [
        {
          "output_type": "stream",
          "text": [
            "var1 is var2? False\n",
            "var1 is not var2? True\n",
            "var3 in var2? True\n",
            "var3 not in var1? False\n"
          ],
          "name": "stdout"
        }
      ]
    },
    {
      "cell_type": "markdown",
      "metadata": {
        "id": "DRBN5sbDMaf_"
      },
      "source": [
        "### Operadores bitáticos (bitwise)\n",
        "\n",
        "Los operadores realizan operaciones bit a bit. Los operandos se consideran como dígitos binarios sobre los que se realizan operaciones bit a bit.\n",
        "\n",
        "<font face=\"Verdana\">\n",
        "\n",
        "|Operador|Descripción|Ejemplo|\n",
        "|-|-|-|\n",
        "|&|Evalua bit a bit de los operandos y es 1 cuando ambos bits son 1| var1 & var2|\n",
        "| \\| |Evalua bit a bit de los operandos y es 0 cuando ambos bits son 0| var1 \\| var2|\n",
        "|^|Evalua bit a bit de los operandos y es 0 cuando ambos bits son 1 o  0| var1 ^ var2|\n",
        "|~|Regresa el complemento de a uno de un número. También funciona como una negación| ~var1|\n",
        "\n"
      ]
    },
    {
      "cell_type": "markdown",
      "metadata": {
        "id": "Ie5_r6R34B6w"
      },
      "source": [
        "\n",
        "## Un ejercicio: par, impar o no aplica\n",
        "\n",
        "Vamos hacer un ejercicio, su solución se encuentra en la siguiente celda. Crearemos un pequeño programa que verifique si el número es entero (siendo un número real la entrada) y en el caso que lo sea, verificar si el número es par o impar."
      ]
    },
    {
      "cell_type": "code",
      "metadata": {
        "id": "brtDQ7pm4JZq"
      },
      "source": [
        "#@title Solución de Par, impar o no aplica\n",
        "num =  8.0#@param {type:\"number\"}\n",
        "num = float(num)\n",
        "esEntero = num.is_integer()\n",
        "esDiv2 = num%2==0\n",
        "esPar = esEntero and esDiv2\n",
        "esImpar = esEntero and not esDiv2\n",
        "\n",
        "#print(\"¿No aplica?\",not esEntero)\n",
        "#print(\"¿El número es par?\",esPar)\n",
        "#print(\"¿El número es impar?\",esImpar)\n",
        "\n"
      ],
      "execution_count": null,
      "outputs": []
    },
    {
      "cell_type": "markdown",
      "metadata": {
        "id": "xttLzxPQW8wX"
      },
      "source": [
        "# **Cadenas**\n",
        "\n",
        "Las cadenas de caracteres son secuencia de caracteres encerrada en comillas\n",
        "dobles o simples. Su tipo es `class str`\n"
      ]
    },
    {
      "cell_type": "code",
      "metadata": {
        "id": "AghcqfKhVdT2",
        "colab": {
          "base_uri": "https://localhost:8080/",
          "height": 54
        },
        "outputId": "fb5cd747-94af-48d6-ff9a-2d9c104e52cf"
      },
      "source": [
        "cadena1 = \"¡Hola\"\n",
        "cadena2 = 'Mundo!'\n",
        "print(cadena1,cadena2)\n",
        "print(type(cadena1))"
      ],
      "execution_count": null,
      "outputs": [
        {
          "output_type": "stream",
          "text": [
            "¡Hola Mundo!\n",
            "<class 'str'>\n"
          ],
          "name": "stdout"
        }
      ]
    },
    {
      "cell_type": "markdown",
      "metadata": {
        "id": "kd2IN3EgtK9b"
      },
      "source": [
        "## Definición e Inicialización de una cadena\n",
        "\n",
        "Las cadenas también pueden estar encerradas entre triple comillas dobles o simples. En este caso las cadenas son multilineas y podemos agregar un texto largo. La combinación de estas comillas pueden producir errores sintácticos, revisemos:"
      ]
    },
    {
      "cell_type": "code",
      "metadata": {
        "id": "NnVezfZ7uTf8",
        "colab": {
          "base_uri": "https://localhost:8080/",
          "height": 108
        },
        "outputId": "68e2038b-d60d-4c22-f828-e363fe48852c"
      },
      "source": [
        "cadena1 = 'Un ejemplo simple: \"el escape\"'\n",
        "cadena2 = \"Otro ejemplo de escape simple f'(x)\"\n",
        "print(cadena1)\n",
        "print(cadena2)\n",
        "\n",
        "print()\n",
        "\n",
        "cadena3 = 'En este hay que escapar con un operador f\\'(x)'\n",
        "cadena4 = \"Para la gente que le gusta (\\\")complicarse(\\\") \"\n",
        "print(cadena3)\n",
        "print(cadena4)"
      ],
      "execution_count": null,
      "outputs": [
        {
          "output_type": "stream",
          "text": [
            "Un ejemplo simple: \"el escape\"\n",
            "Otro ejemplo de escape simple f'(x)\n",
            "\n",
            "En este hay que escapar con un operador f'(x)\n",
            "Para la gente que le gusta (\")complicarse(\") \n"
          ],
          "name": "stdout"
        }
      ]
    },
    {
      "cell_type": "code",
      "metadata": {
        "id": "kjOUpkD2xRS-",
        "colab": {
          "base_uri": "https://localhost:8080/",
          "height": 126
        },
        "outputId": "242c8f97-210a-47c7-95ac-6cd0e56d0810"
      },
      "source": [
        "cadena5 = '''En este \"caso\" nada de eso \n",
        "importa f'(x) '''\n",
        "cadena6 = \"\"\"En este \"caso\" tampoco \n",
        "importa f'(x) \"\"\"\n",
        "print(cadena5)\n",
        "print(cadena6)\n",
        "\n",
        "cadena7 = \"Podemos usar un salto \\n de línea o un \\t tabulador\"\n",
        "print(cadena7)"
      ],
      "execution_count": null,
      "outputs": [
        {
          "output_type": "stream",
          "text": [
            "En este \"caso\" nada de eso \n",
            "importa f'(x) \n",
            "En este \"caso\" tampoco \n",
            "importa f'(x) \n",
            "Podemos usar un salto \n",
            " de línea o un \t tabulador\n"
          ],
          "name": "stdout"
        }
      ]
    },
    {
      "cell_type": "markdown",
      "metadata": {
        "id": "Y8gPH8363XHv"
      },
      "source": [
        "Se pueden usar ciertos caracteres especiales siempre que se conozca el nombre o código asociado  [Unicode](https://unicode.org/charts/charindex.html), aunque depende mucho de la versión de python."
      ]
    },
    {
      "cell_type": "code",
      "metadata": {
        "id": "cfNgncv55BMI",
        "colab": {
          "base_uri": "https://localhost:8080/",
          "height": 108
        },
        "outputId": "552849fb-3878-4c76-f9dc-57f0d04a3d39"
      },
      "source": [
        "print('Borrando una letra\\b')\n",
        "print('Todo lo que es texto \\r ha evolucionado mucho')\n",
        "print('El tab \\t para las tablas')\n",
        "print(\"\\N{SOLIDUS} \\N{BLACK SPADE SUIT} \\N{BLACK STAR}\")\n",
        "print('\\u2660 \\u00ff \\xf6 ')"
      ],
      "execution_count": null,
      "outputs": [
        {
          "output_type": "stream",
          "text": [
            "Borrando una letra\b\n",
            "Todo lo que es texto \r ha evolucionado mucho\n",
            "El tab \t para las tablas\n",
            "/ ♠ ★\n",
            "♠ ÿ ö \n"
          ],
          "name": "stdout"
        }
      ]
    },
    {
      "cell_type": "markdown",
      "metadata": {
        "id": "ByxOlbMJT9Jk"
      },
      "source": [
        "## Formularios de Colab\n",
        "¡Hagamos un ejercicio sencillo y aprendamos un poco más de los formularios de Colab!\n",
        "\n",
        "Pero antes revisemos este [link](https://colab.research.google.com/notebooks/forms.ipynb)\n",
        "\n",
        "Ahora sí, hagamos un formulario que nos reciba una frase y la imprima"
      ]
    },
    {
      "cell_type": "code",
      "metadata": {
        "id": "-QC3wgbaVUi4",
        "cellView": "form"
      },
      "source": [
        "#@title ¡Hey aquí la solución!\n",
        "#frase = \"\" #@param {type:\"string\"}\n",
        "#print(frase)"
      ],
      "execution_count": null,
      "outputs": []
    },
    {
      "cell_type": "markdown",
      "metadata": {
        "id": "ueDNzmKx3Ecv"
      },
      "source": [
        "## Operaciones entre string"
      ]
    },
    {
      "cell_type": "markdown",
      "metadata": {
        "id": "0lWpm9T1hUDc"
      },
      "source": [
        "\n",
        "\n",
        "### Concatenar \n",
        "\n",
        "Usando el operador suma (+) podemos unir cadenas \n",
        "\n"
      ]
    },
    {
      "cell_type": "code",
      "metadata": {
        "id": "cADS6VFAyl1R",
        "colab": {
          "base_uri": "https://localhost:8080/",
          "height": 35
        },
        "outputId": "6feb3636-96bc-4a7e-8a7e-cc22d78138cc"
      },
      "source": [
        "cadena1 = 'Una palabra'\n",
        "cadena2 = ', otra palabra'\n",
        "cadena3 = ' y una palabra final'\n",
        "print(cadena1 + cadena2 + cadena3)"
      ],
      "execution_count": null,
      "outputs": [
        {
          "output_type": "stream",
          "text": [
            "Una palabra, otra palabra y una palabra final\n"
          ],
          "name": "stdout"
        }
      ]
    },
    {
      "cell_type": "code",
      "metadata": {
        "id": "ajIUiIgPj3QI",
        "colab": {
          "base_uri": "https://localhost:8080/",
          "height": 35
        },
        "outputId": "5a6517ff-6c07-49e8-9cf3-e7ea1a410c45"
      },
      "source": [
        "var_int = 9\n",
        "print(\"Una frase \" + str(var_int))"
      ],
      "execution_count": null,
      "outputs": [
        {
          "output_type": "stream",
          "text": [
            "Una frase 9\n"
          ],
          "name": "stdout"
        }
      ]
    },
    {
      "cell_type": "markdown",
      "metadata": {
        "id": "NP-poZQWht-L"
      },
      "source": [
        "### Repetir\n",
        "\n",
        "Usando el operador multiplicación (*) podemos repetir una cadena un número entero de veces\n"
      ]
    },
    {
      "cell_type": "code",
      "metadata": {
        "id": "0C1xjHgRhx6E",
        "colab": {
          "base_uri": "https://localhost:8080/",
          "height": 35
        },
        "outputId": "0a84f303-2b1f-41c6-d20a-8e8d1ebddf0e"
      },
      "source": [
        "cadena3 = 'Todo bien '\n",
        "print(cadena3*5)"
      ],
      "execution_count": null,
      "outputs": [
        {
          "output_type": "stream",
          "text": [
            "Todo bien Todo bien Todo bien Todo bien Todo bien \n"
          ],
          "name": "stdout"
        }
      ]
    },
    {
      "cell_type": "markdown",
      "metadata": {
        "id": "RjGfngHrh5oQ"
      },
      "source": [
        "### Interpolar\n",
        "\n",
        "El operador módulo (%) con los string, es conocido como el operador de interpolación. Permite el formateo de una cadena, para ello se debe proveer el % seguido por el tipo que necesita ser formateado o convertido. El operador % entonces substituye la frase '%tipodato' según el caso. "
      ]
    },
    {
      "cell_type": "code",
      "metadata": {
        "id": "cpoi9lCMK5R_",
        "colab": {
          "base_uri": "https://localhost:8080/",
          "height": 35
        },
        "outputId": "323b9458-6202-4e7a-f6f7-6ec45e28da0c"
      },
      "source": [
        "\"Esto es -> %d <- una cadena con un valor -> %.2f <-\"%(6, 7.8986533)"
      ],
      "execution_count": null,
      "outputs": [
        {
          "output_type": "execute_result",
          "data": {
            "application/vnd.google.colaboratory.intrinsic+json": {
              "type": "string"
            },
            "text/plain": [
              "'Esto es -> 6 <- una cadena con un valor -> 7.90 <-'"
            ]
          },
          "metadata": {
            "tags": []
          },
          "execution_count": 30
        }
      ]
    },
    {
      "cell_type": "code",
      "metadata": {
        "id": "_G_XXkwth9vI",
        "colab": {
          "base_uri": "https://localhost:8080/",
          "height": 54
        },
        "outputId": "23830c5b-2b33-4ee5-a495-439de771d84c"
      },
      "source": [
        "valor_entero = 5\n",
        "valor_real = -9.8\n",
        "valor_nc = 3.78e-5\n",
        "cadena4 = '¡Hola mundo cruel!'\n",
        "\n",
        "print('Para imprimir una cadena con una variable usamos el formato %')\n",
        "cadena_a_imprimir = 'Entero: %d, flotante: %f, Notación: %e, Cadena: %s'%(valor_entero,valor_real,valor_nc,cadena4)\n",
        "print(cadena_a_imprimir)"
      ],
      "execution_count": null,
      "outputs": [
        {
          "output_type": "stream",
          "text": [
            "Para imprimir una cadena con una variable usamos el formato %\n",
            "Entero: 5, flotante: -9.800000, Notación: 3.780000e-05, Cadena: ¡Hola mundo cruel!\n"
          ],
          "name": "stdout"
        }
      ]
    },
    {
      "cell_type": "code",
      "metadata": {
        "id": "jSnTGendk5ur",
        "colab": {
          "base_uri": "https://localhost:8080/",
          "height": 35
        },
        "outputId": "9a439791-5f01-4b85-a66d-07f011eb5931"
      },
      "source": [
        "print(  \"Con formato %.1e\"%(valor_nc) )"
      ],
      "execution_count": null,
      "outputs": [
        {
          "output_type": "stream",
          "text": [
            "Con formato 3.8e-05\n"
          ],
          "name": "stdout"
        }
      ]
    },
    {
      "cell_type": "markdown",
      "metadata": {
        "id": "S9wbK0VVWKMM"
      },
      "source": [
        "### Formularios de Colab 2\n",
        "¡Hagamos un ejercicio sencillo y aprendamos un poco más de los formularios de Colab!\n",
        "\n",
        "Pero antes revisemos este [link](https://colab.research.google.com/notebooks/forms.ipynb)\n",
        "\n",
        "Hagamos un formulario que nos reciba un número y nos imprima `El número ingresado fue xx.xx y su doble fue xx.xx`\n",
        "\n",
        "Con dos cifras significativas. "
      ]
    },
    {
      "cell_type": "code",
      "metadata": {
        "id": "Pm3WDgG4WKMQ"
      },
      "source": [
        "#@title ¡Hey aquí la solución!\n",
        "#numero =  8.652#@param {type:\"number\"}\n",
        "#print(\"El número ingresado fue %.2f y su doble es %.2f \"%(numero,2*numero))"
      ],
      "execution_count": null,
      "outputs": []
    },
    {
      "cell_type": "markdown",
      "metadata": {
        "id": "F2bgN6ODvGOE"
      },
      "source": [
        "## Los string son inmutables pero iterables\n",
        "\n",
        "Las cadenas de caracteres son iterables inmutables, es decir podemos acceder a ellos letra por letra e incluso seleccionar ciertos pedazos pero no podemos cambiar una letra directamente. \n",
        "\n"
      ]
    },
    {
      "cell_type": "code",
      "metadata": {
        "id": "-3LGt_qxvYZh",
        "colab": {
          "base_uri": "https://localhost:8080/",
          "height": 126
        },
        "outputId": "2af17016-8955-40c7-9777-70d0cb3760a2"
      },
      "source": [
        "cadena1='Esto_es_una_cadena'\n",
        "print('Este es el primer carácter de la cadena: ',cadena1[0])\n",
        "print('O el último, ',cadena1[-1])\n",
        "print('La longitud de la cadena es: ',len(cadena1))\n",
        "#len es una función que me da la longitud de un iterable\n",
        "print('Seleccionemos desde el carácter 5 al 11: ',cadena1[4:11])\n",
        "# E[0]\n",
        "# s[1]\n",
        "# t[2]\n",
        "# o[3]\n",
        "# _[4]\n",
        "# [ init : end : step]\n",
        "# [  :  : step] --> primer valor hasta el último valor\n",
        "print('También podemos escribirla de a 2, ',cadena1[::2])\n",
        "print('O invertirla, ',cadena1[::-1])\n",
        "#Esto es un error!\n",
        "#cadena1[0] = 'e'"
      ],
      "execution_count": null,
      "outputs": [
        {
          "output_type": "stream",
          "text": [
            "Este es el primer carácter de la cadena:  E\n",
            "O el último,  a\n",
            "La longitud de la cadena es:  18\n",
            "Seleccionemos desde el carácter 5 al 11:  _es_una\n",
            "También podemos escribirla de a 2,  Et_suacdn\n",
            "O invertirla,  anedac_anu_se_otsE\n"
          ],
          "name": "stdout"
        }
      ]
    },
    {
      "cell_type": "markdown",
      "metadata": {
        "id": "HJTaGGEFo-lq"
      },
      "source": [
        "## Métodos en cadenas\n",
        "\n",
        "Los string o la clase **str** tiene varios métodos, es decir que cuando creamos cualquier cadena de caracteres enseguida podemos acceder a estos. Los métodos son funciones internas que hacen muy fácil usar ciertos objetos en python. Cuando en la documentación de python aparece `f(x[,v1,v2])` significa que esos dos valores (argumentos de la función `v1,v2`) no son obligatorios. \n",
        "\n",
        "Siendo str_obj el nombre del objeto que es tipo string tenemos:"
      ]
    },
    {
      "cell_type": "markdown",
      "metadata": {
        "id": "R_PSIlaSmtvV"
      },
      "source": [
        "### Métodos con mayúsculas y minúsculas\n",
        "* `str_obj.capitalize()`: Primera letra en mayúscula.\n",
        "* `str_obj.lower()`: Todas las letras en minúscula.\n",
        "* `str_obj.upper()`: Todas las letras en mayúscula.\n",
        "* `str_obj.swapcase()`: Invertir mayúsculas y minúsculas.\n",
        "* `str_obj.title()`: Cada letra en mayúscula.\n",
        "\n",
        "\n"
      ]
    },
    {
      "cell_type": "code",
      "metadata": {
        "id": "kAACjU1ApnCi",
        "colab": {
          "base_uri": "https://localhost:8080/",
          "height": 35
        },
        "outputId": "61ef15d4-1331-423e-e85b-5940bfa00190"
      },
      "source": [
        "cadena = 'una frase cualquiera'\n",
        "print(cadena.capitalize())"
      ],
      "execution_count": null,
      "outputs": [
        {
          "output_type": "stream",
          "text": [
            "Una frase cualquiera\n"
          ],
          "name": "stdout"
        }
      ]
    },
    {
      "cell_type": "markdown",
      "metadata": {
        "id": "Zp762mctpgtl"
      },
      "source": [
        "### Metodos de búsqueda\n",
        "\n",
        "* `str_obj.count(caráter)`: Permite contar cuantos veces está el carácter\n",
        "en la cadena.\n",
        "* `str_obj.find(cadena)`: Permite buscar una subcadena en una cadena, regresa el primer match.\n",
        "* `str_obj.index(subcadena[, posicion_inicio, posicion_fin])`: Permite buscar una subcadena en una cadena y regresar la posición del primer match.\n",
        "* `str_obj.rfind, str.rindex`: los mismo que las anteriores pero regresando el último match\n",
        "* `str_obj.startswith(subcadena[, posicion_inicio, posicion_fin])`: Permite\n",
        "saber si la cadena comienza con cierta subcadena\n",
        "* `str_obj.endswith(subcadena[, posicion_inicio, posicion_fin])`: Permite\n",
        "saber si la cadena termina con cierta subcadena\n",
        "\n"
      ]
    },
    {
      "cell_type": "code",
      "metadata": {
        "id": "wWBCGiIFqYwU",
        "colab": {
          "base_uri": "https://localhost:8080/",
          "height": 54
        },
        "outputId": "25a6c85d-4485-4527-f17e-82222c2ac2d9"
      },
      "source": [
        "cadena = 'En búsqueda de la subcadena'\n",
        "print(cadena.count('a'))\n",
        "print(cadena.find(' '))"
      ],
      "execution_count": null,
      "outputs": [
        {
          "output_type": "stream",
          "text": [
            "4\n",
            "2\n"
          ],
          "name": "stdout"
        }
      ]
    },
    {
      "cell_type": "markdown",
      "metadata": {
        "id": "s-7LxZ-jqNnA"
      },
      "source": [
        "### Métodos de exploración\n",
        "* `str_obj.isalnum()`: Saber si es alfanumérica.\n",
        "* `str_obj.isalpha()`: Saber si es alfabética.\n",
        "* `str_obj.isdigits()`: Saber si es numérica.\n",
        "* `str_obj.islower()`: Saber si sólo tiene minúsculas.\n",
        "* `str_obj.isupper()`: Saber si sólo tiene mayúsculas.\n",
        "* `str_obj.isspace()`:  Saber si sólo tiene espacios.\n",
        "\n"
      ]
    },
    {
      "cell_type": "code",
      "metadata": {
        "id": "YP34iD_rquKU",
        "colab": {
          "base_uri": "https://localhost:8080/",
          "height": 54
        },
        "outputId": "73196adb-fd00-4982-eb75-6b102b28883a"
      },
      "source": [
        "cadena = 'REVISANDO'\n",
        "print(cadena.islower())\n",
        "print(cadena.isupper())"
      ],
      "execution_count": null,
      "outputs": [
        {
          "output_type": "stream",
          "text": [
            "False\n",
            "True\n"
          ],
          "name": "stdout"
        }
      ]
    },
    {
      "cell_type": "markdown",
      "metadata": {
        "id": "aNa_9Pu2qSha"
      },
      "source": [
        "### Métodos de modificación\n",
        "\n",
        "* `str_obj.replace(cadena buscar,cadena a remplazar)`: Remplaza una\n",
        "cadena por otra (no in situ).\n",
        "* `str_obj.strip()`: Eliminar caracteres a la derecha e izquierda de una\n",
        "cadena.\n",
        "* `str_obj.join(str2)`: Retorna la cadena unida con el iterable (la cadena\n",
        "es separada por cada uno de los elementos del iterable).\n",
        "\n"
      ]
    },
    {
      "cell_type": "code",
      "metadata": {
        "id": "JyJ-pwUQrBE2",
        "colab": {
          "base_uri": "https://localhost:8080/",
          "height": 35
        },
        "outputId": "b15ecc59-b3c8-4a18-a184-329b4f9af05e"
      },
      "source": [
        "cadena = 'Modificando desde una cadena a otra'\n",
        "print(cadena.replace(' ','*'))"
      ],
      "execution_count": null,
      "outputs": [
        {
          "output_type": "stream",
          "text": [
            "Modificando*desde*una*cadena*a*otra\n"
          ],
          "name": "stdout"
        }
      ]
    },
    {
      "cell_type": "markdown",
      "metadata": {
        "id": "DdEmPYMUq31I"
      },
      "source": [
        "### Metódos de visualización\n",
        "* `str_obj.split([separador])`: Separa una cadena en varias partes según\n",
        "separador.\n",
        "\n",
        "* `str_obj.center(50[, symbol])`: Centrar cadena sola o con un símbolo.\n",
        "\n",
        "* `str_obj.format(*args, **kwargs)`: Poder sustituir en una cadena según\n",
        "formato (tipo bash).\n"
      ]
    },
    {
      "cell_type": "code",
      "metadata": {
        "id": "LQP5wrOzpggG",
        "colab": {
          "base_uri": "https://localhost:8080/",
          "height": 54
        },
        "outputId": "d1315ca4-5b53-4321-8a85-520b39d0589f"
      },
      "source": [
        "cadena = 'Una frase larga y sin sentido'\n",
        "print(cadena.split(' '))\n",
        "\n",
        "########## USO DE FORMAT ###########\n",
        "print('No entero {1:.1f} y no real {0}'.format(1,1.9898))"
      ],
      "execution_count": null,
      "outputs": [
        {
          "output_type": "stream",
          "text": [
            "['Una', 'frase', 'larga', 'y', 'sin', 'sentido']\n",
            "No entero 2.0 y no real 1\n"
          ],
          "name": "stdout"
        }
      ]
    },
    {
      "cell_type": "markdown",
      "metadata": {
        "id": "j_nQK_9vtcih"
      },
      "source": [
        "## Ejercicio 1 \n",
        "\n",
        "Definiendo una variable `str()` de un solo carácter, use los métodos para revisar si es una letra, mayúscula, minúscula, digito, espacio u otro carácter.\n",
        "\n"
      ]
    },
    {
      "cell_type": "code",
      "metadata": {
        "id": "us-P_v3e6vWy",
        "cellView": "form"
      },
      "source": [
        "#@title Para una pista, doble click **aquí**\n",
        "#caracter = '*'\n",
        "#print(\"Es una letra:\",caracter.isalpha())\n"
      ],
      "execution_count": null,
      "outputs": []
    },
    {
      "cell_type": "markdown",
      "metadata": {
        "id": "3BdpE1RbtjX-"
      },
      "source": [
        "## Ejercicio 2\n",
        "\n",
        "Se ha obtenido la siguiente cadena corrupta `cadena = \"zeréP nauJ,01\"` y deseamos transformala a `(Nombre) (Apellido) ha sacado un (Nota) de nota`"
      ]
    },
    {
      "cell_type": "code",
      "metadata": {
        "id": "-lYiJzIV7bwJ",
        "cellView": "form"
      },
      "source": [
        "#@title Para una pista, doble click **aquí**\n",
        "#cadena =\"zeréP nauJ,01\" \n",
        "#apellido = cadena[0:5] #= \"zeréP\" \n",
        "#apellido = apellido[::-1] #=Pérez\n",
        "#apellido"
      ],
      "execution_count": null,
      "outputs": []
    },
    {
      "cell_type": "markdown",
      "metadata": {
        "id": "kSNWgAOltnYM"
      },
      "source": [
        "## Ejercicio 3\n",
        "\n",
        "El nickname de un usuario debe ser completamente en minúsculas y no tener espacios. Para evitar esta situación, sin importar qué ingrese un usuario, qué métodos me permiten corregir el nickname.  "
      ]
    },
    {
      "cell_type": "code",
      "metadata": {
        "id": "I5_bjGyH7xtV",
        "cellView": "form"
      },
      "source": [
        "#@title Para una pista, doble click **aquí**\n",
        "#nickname = \"Aja y tú que\"\n",
        "#nickname_correcto = nickname.lower()\n",
        "#nickname_correcto = nickname_correcto.replace(' ','')"
      ],
      "execution_count": null,
      "outputs": []
    },
    {
      "cell_type": "markdown",
      "metadata": {
        "id": "oEOF4k-gZtmg"
      },
      "source": [
        "# **El módulo de los arreglos**\n",
        "\n",
        "Los módulos son objetos en python con atributos y métodos propios que se forman de una gran cantidad de scripts. Es posible crear módulos propios con funciones o clases diseñadas, pero es más común usar aquellos que ya están disponibles para trabajar. Podemos invocarles con el comando `import`. "
      ]
    },
    {
      "cell_type": "code",
      "metadata": {
        "id": "CRXpNlbPaLjk",
        "colab": {
          "base_uri": "https://localhost:8080/",
          "height": 35
        },
        "outputId": "5ea107da-922e-40f7-fc4f-7c45d5a98ead"
      },
      "source": [
        "#Hay funciones precompiladas que podemos usar sin problemas\n",
        "numero = 64\n",
        "print(bin(numero))"
      ],
      "execution_count": null,
      "outputs": [
        {
          "output_type": "stream",
          "text": [
            "0b1000000\n"
          ],
          "name": "stdout"
        }
      ]
    },
    {
      "cell_type": "markdown",
      "metadata": {
        "id": "Gpty8Czb0E1U"
      },
      "source": [
        "Módulo [math](https://docs.python.org/3/library/math.html)"
      ]
    },
    {
      "cell_type": "code",
      "metadata": {
        "id": "uTdyoI7wdnlA",
        "colab": {
          "base_uri": "https://localhost:8080/",
          "height": 35
        },
        "outputId": "ae6519b5-22a1-4c7a-cbc5-95b7927ba436"
      },
      "source": [
        "#Pero hay conjunto de funciones más especializadas\n",
        "import math\n",
        "print(math.sqrt(numero))"
      ],
      "execution_count": null,
      "outputs": [
        {
          "output_type": "stream",
          "text": [
            "8.0\n"
          ],
          "name": "stdout"
        }
      ]
    },
    {
      "cell_type": "code",
      "metadata": {
        "id": "zC36U8aOdu_O"
      },
      "source": [
        "#Y hay modulos aún más especiales\n",
        "import numpy as np"
      ],
      "execution_count": null,
      "outputs": []
    },
    {
      "cell_type": "markdown",
      "metadata": {
        "id": "ET0i5-NnRT6k"
      },
      "source": [
        "[Numpy](https://numpy.org/) es un paquete fundamental para el trabajo científico en python:\n",
        "* Contiene Funciones, módulos, clases y cierto tipo especial de datos. \n",
        "* Permite el manejo de Arrays Multidimensionales. \n",
        "* Contiene Funciones sofisticadas y optimizadas. Permite incorporar códigos en C/C++ o fortran. \n",
        "* Contiene un paquete de álgebra lineal y permite hacer cálculos estadísticos, ajustes, interpolación entre otras.\n",
        "\n",
        "\n",
        "> El tipo de dato mas importante en numpy es el **array**. El array es un tipo de dato, formado a partir de otro tipo de datos mas sencillos y que estan ordenados en una secuencia definida, en ese sentido es muy similar a una lista o tupla, pero a diferencia de estos, un array solo admite un tipo de dato.\n",
        "\n",
        "Forma frecuente de importar el módulo\n",
        "\n",
        "```python\n",
        "import numpy as np\n",
        "```\n"
      ]
    },
    {
      "cell_type": "code",
      "metadata": {
        "id": "wzCUPFjCenpX",
        "colab": {
          "base_uri": "https://localhost:8080/",
          "height": 35
        },
        "outputId": "fce56799-44d3-4613-f64e-fcc0f4ee974e"
      },
      "source": [
        "lista = [1, 2, 3, 4]\n",
        "arreglo = np.array(lista) # str(var_int)\n",
        "print(\"Clase:\",type(arreglo))"
      ],
      "execution_count": null,
      "outputs": [
        {
          "output_type": "stream",
          "text": [
            "Clase: <class 'numpy.ndarray'>\n"
          ],
          "name": "stdout"
        }
      ]
    },
    {
      "cell_type": "code",
      "metadata": {
        "id": "rFn9s4oEe1Mp",
        "cellView": "code",
        "colab": {
          "base_uri": "https://localhost:8080/",
          "height": 217
        },
        "outputId": "6f3488ea-0920-464d-eb30-2f9c265b9039"
      },
      "source": [
        "#@title Los arreglos tiene muchos atributos\n",
        "\n",
        "def niceprint(array):\n",
        "  return np.array2string(array).replace('[',' ').replace(']',' ')\n",
        "\n",
        "def attr_array(array):\n",
        "  print(\"El arreglo es: \", array)\n",
        "  print(\"Las dimensiones del arreglo son: \",array.shape,end=\" \")\n",
        "  print(\"cs,s,r,c --> recordar (conjunto,corte,fila,columna)\")\n",
        "  print(\"El número de dimensiones del arreglo es: \", array.ndim)\n",
        "  print(\"El número de elementos del arreglo es: \", array.size)\n",
        "  print(\"El tamaño de un elemento del arreglo es: \", array.itemsize,'bytes')\n",
        "  print(\"El tamaño total de elementos del arreglo es: \", array.nbytes,'bytes')\n",
        "  print(\"El tipo de elementos del arreglo es: \", array.dtype)\n",
        "  print(\"Parte real del arreglo es: \", array.real)\n",
        "  print(\"Parte imaginaria del arreglo es: \", array.imag)\n",
        "  print(\"Su trasnpuesta es: \", array.T)\n",
        "  print()\n",
        "\n",
        "attr_array(arreglo)"
      ],
      "execution_count": null,
      "outputs": [
        {
          "output_type": "stream",
          "text": [
            "El arreglo es:  [1 2 3 4]\n",
            "Las dimensiones del arreglo son:  (4,) cs,s,r,c --> recordar (conjunto,corte,fila,columna)\n",
            "El número de dimensiones del arreglo es:  1\n",
            "El número de elementos del arreglo es:  4\n",
            "El tamaño de un elemento del arreglo es:  8 bytes\n",
            "El tamaño total de elementos del arreglo es:  32 bytes\n",
            "El tipo de elementos del arreglo es:  int64\n",
            "Parte real del arreglo es:  [1 2 3 4]\n",
            "Parte imaginaria del arreglo es:  [0 0 0 0]\n",
            "Su trasnpuesta es:  [1 2 3 4]\n",
            "\n"
          ],
          "name": "stdout"
        }
      ]
    },
    {
      "cell_type": "code",
      "metadata": {
        "id": "uFlnKFJHfLCa",
        "colab": {
          "base_uri": "https://localhost:8080/",
          "height": 217
        },
        "outputId": "dcec2188-6507-4ff8-a175-0e8b15f02763"
      },
      "source": [
        "arreglo = np.array([1,0+2j,487.0], dtype=\"str\")\n",
        "attr_array(arreglo)"
      ],
      "execution_count": null,
      "outputs": [
        {
          "output_type": "stream",
          "text": [
            "El arreglo es:  ['1' '2j' '487.0']\n",
            "Las dimensiones del arreglo son:  (3,) cs,s,r,c --> recordar (conjunto,corte,fila,columna)\n",
            "El número de dimensiones del arreglo es:  1\n",
            "El número de elementos del arreglo es:  3\n",
            "El tamaño de un elemento del arreglo es:  20 bytes\n",
            "El tamaño total de elementos del arreglo es:  60 bytes\n",
            "El tipo de elementos del arreglo es:  <U5\n",
            "Parte real del arreglo es:  ['1' '2j' '487.0']\n",
            "Parte imaginaria del arreglo es:  ['' '' '']\n",
            "Su trasnpuesta es:  ['1' '2j' '487.0']\n",
            "\n"
          ],
          "name": "stdout"
        }
      ]
    },
    {
      "cell_type": "code",
      "metadata": {
        "id": "87CpQCpOfRF-",
        "colab": {
          "base_uri": "https://localhost:8080/",
          "height": 345
        },
        "outputId": "0298bb13-243b-4c17-e68e-d9967799def0"
      },
      "source": [
        "arreglo = np.array([[1,2],[3,4],[5,6]])\n",
        "attr_array(arreglo)"
      ],
      "execution_count": null,
      "outputs": [
        {
          "output_type": "stream",
          "text": [
            "El arreglo es:  [[1 2]\n",
            " [3 4]\n",
            " [5 6]]\n",
            "Las dimensiones del arreglo son:  (3, 2) cs,s,r,c --> recordar (conjunto,corte,fila,columna)\n",
            "El número de dimensiones del arreglo es:  2\n",
            "El número de elementos del arreglo es:  6\n",
            "El tamaño de un elemento del arreglo es:  8 bytes\n",
            "El tamaño total de elementos del arreglo es:  48 bytes\n",
            "El tipo de elementos del arreglo es:  int64\n",
            "Parte real del arreglo es:  [[1 2]\n",
            " [3 4]\n",
            " [5 6]]\n",
            "Parte imaginaria del arreglo es:  [[0 0]\n",
            " [0 0]\n",
            " [0 0]]\n",
            "Su trasnpuesta es:  [[1 3 5]\n",
            " [2 4 6]]\n",
            "\n"
          ],
          "name": "stdout"
        }
      ]
    },
    {
      "cell_type": "markdown",
      "metadata": {
        "id": "jPp8To0Kn-ul"
      },
      "source": [
        "## Funciones de Numpy para crear arreglos\n",
        "\n",
        "* ```python \n",
        "arange([start],[stop],[step],dtype=None)\n",
        "```\n"
      ]
    },
    {
      "cell_type": "code",
      "metadata": {
        "id": "lCHv8o52vw-o",
        "colab": {
          "base_uri": "https://localhost:8080/",
          "height": 54
        },
        "outputId": "43e9f58e-4d13-4f38-dd60-82145a2c2a03"
      },
      "source": [
        "init = 1.0\n",
        "end = -2.5\n",
        "delta = -0.5\n",
        "#[a, b)\n",
        "arreglo1 = np.arange(init,end,delta)\n",
        "print(\"Desde %.2f a %.2f de a %.2f, el %.2f no se toma: \\n\"%(init,end,delta,end),arreglo1)"
      ],
      "execution_count": null,
      "outputs": [
        {
          "output_type": "stream",
          "text": [
            "Desde 1.00 a -2.50 de a -0.50, el -2.50 no se toma: \n",
            " [ 1.   0.5  0.  -0.5 -1.  -1.5 -2. ]\n"
          ],
          "name": "stdout"
        }
      ]
    },
    {
      "cell_type": "markdown",
      "metadata": {
        "id": "A0UFh4SSxpl5"
      },
      "source": [
        "* ```python \n",
        "linspace(start,stop,num=50,endpoint=True,retstep=False,axis=0)\n",
        "``` \n"
      ]
    },
    {
      "cell_type": "code",
      "metadata": {
        "id": "_QPFeXwzv3yL",
        "colab": {
          "base_uri": "https://localhost:8080/",
          "height": 90
        },
        "outputId": "5faacfd9-1dc9-44f9-811e-4d07676e261d"
      },
      "source": [
        "init = -10\n",
        "end = 10\n",
        "part = 15\n",
        "#[a, b]\n",
        "arreglo2 = np.linspace(init,end,part)\n",
        "print(\"%d valores desde %f a %f, tomando el %f: \\n\"%(part,init,end,end), arreglo2)"
      ],
      "execution_count": null,
      "outputs": [
        {
          "output_type": "stream",
          "text": [
            "15 valores desde -10.000000 a 10.000000, tomando el 10.000000: \n",
            " [-10.          -8.57142857  -7.14285714  -5.71428571  -4.28571429\n",
            "  -2.85714286  -1.42857143   0.           1.42857143   2.85714286\n",
            "   4.28571429   5.71428571   7.14285714   8.57142857  10.        ]\n"
          ],
          "name": "stdout"
        }
      ]
    },
    {
      "cell_type": "code",
      "metadata": {
        "id": "iZ3AFd87wNkh",
        "colab": {
          "base_uri": "https://localhost:8080/",
          "height": 90
        },
        "outputId": "f9c563e7-e16b-4db9-c923-3c9e1dc79b42"
      },
      "source": [
        "#[a, b)\n",
        "arreglo3 = np.linspace(init,end,part, endpoint=False)\n",
        "# \"bla var1 bla var2 bla\"%(var1, var2)\n",
        "# \"bla %f   bla %f   bla\"%(var1, var2) \n",
        "# %f --> flotante \n",
        "# \\n salto de línea\n",
        "print(\"%d valores desde %f a %f, sin tomar el %f: \\n\"%(part,init,end,end), arreglo3)"
      ],
      "execution_count": null,
      "outputs": [
        {
          "output_type": "stream",
          "text": [
            "15 valores desde -10.000000 a 10.000000, sin tomar el 10.000000: \n",
            " [-10.          -8.66666667  -7.33333333  -6.          -4.66666667\n",
            "  -3.33333333  -2.          -0.66666667   0.66666667   2.\n",
            "   3.33333333   4.66666667   6.           7.33333333   8.66666667]\n"
          ],
          "name": "stdout"
        }
      ]
    },
    {
      "cell_type": "code",
      "metadata": {
        "id": "1FVEfvwcwSAd",
        "colab": {
          "base_uri": "https://localhost:8080/",
          "height": 108
        },
        "outputId": "71e929dd-a4d8-4c19-b649-7ca3ece38695"
      },
      "source": [
        "info_arreglo = np.linspace(init,end,part,endpoint=False,retstep=True)\n",
        "print(\"%d valores desde %f a %f, sin tomar el %f y el paso usado (tupla): \\n\"%(part,init,end,end), info_arreglo)"
      ],
      "execution_count": null,
      "outputs": [
        {
          "output_type": "stream",
          "text": [
            "15 valores desde -10.000000 a 10.000000, sin tomar el 10.000000 y el paso usado (tupla): \n",
            " (array([-10.        ,  -8.66666667,  -7.33333333,  -6.        ,\n",
            "        -4.66666667,  -3.33333333,  -2.        ,  -0.66666667,\n",
            "         0.66666667,   2.        ,   3.33333333,   4.66666667,\n",
            "         6.        ,   7.33333333,   8.66666667]), 1.3333333333333333)\n"
          ],
          "name": "stdout"
        }
      ]
    },
    {
      "cell_type": "code",
      "metadata": {
        "id": "Ytpya6wan-vY",
        "colab": {
          "base_uri": "https://localhost:8080/",
          "height": 217
        },
        "outputId": "31a1f8f5-d698-4107-a1c8-0f868dd03ebf"
      },
      "source": [
        "arreglo4 = np.linspace([0,2],[1,3],10)\n",
        "print(\"Un arreglo multidimensional de\",arreglo4.shape,\": \\n\", arreglo4)"
      ],
      "execution_count": null,
      "outputs": [
        {
          "output_type": "stream",
          "text": [
            "Un arreglo multidimensional de (10, 2) : \n",
            " [[0.         2.        ]\n",
            " [0.11111111 2.11111111]\n",
            " [0.22222222 2.22222222]\n",
            " [0.33333333 2.33333333]\n",
            " [0.44444444 2.44444444]\n",
            " [0.55555556 2.55555556]\n",
            " [0.66666667 2.66666667]\n",
            " [0.77777778 2.77777778]\n",
            " [0.88888889 2.88888889]\n",
            " [1.         3.        ]]\n"
          ],
          "name": "stdout"
        }
      ]
    },
    {
      "cell_type": "code",
      "metadata": {
        "id": "mrIptvaGxNSB",
        "colab": {
          "base_uri": "https://localhost:8080/",
          "height": 108
        },
        "outputId": "1063615c-a816-492d-dbae-a177dc596807"
      },
      "source": [
        "arreglo5 = np.linspace([0,2],[1,3],10,axis=1)\n",
        "print(\"Un arreglo multidimensional de\",arreglo5.shape,\": \\n\", arreglo5)"
      ],
      "execution_count": null,
      "outputs": [
        {
          "output_type": "stream",
          "text": [
            "Un arreglo multidimensional de (2, 10) : \n",
            " [[0.         0.11111111 0.22222222 0.33333333 0.44444444 0.55555556\n",
            "  0.66666667 0.77777778 0.88888889 1.        ]\n",
            " [2.         2.11111111 2.22222222 2.33333333 2.44444444 2.55555556\n",
            "  2.66666667 2.77777778 2.88888889 3.        ]]\n"
          ],
          "name": "stdout"
        }
      ]
    },
    {
      "cell_type": "markdown",
      "metadata": {
        "id": "3EThOxsFxsu6"
      },
      "source": [
        "* ```python \n",
        "ones(shape,dtype=None)\n",
        "```\n",
        "*```python  \n",
        "zeros(shape, dtype=float)\n",
        "```"
      ]
    },
    {
      "cell_type": "code",
      "metadata": {
        "id": "2nGGzsncx9AM",
        "colab": {
          "base_uri": "https://localhost:8080/",
          "height": 108
        },
        "outputId": "7106c35b-e83b-46cc-8369-0791294c8bb7"
      },
      "source": [
        "arreglo6 = np.ones((4,6))\n",
        "print(\"Un arreglo de 1 multidimensional de\",arreglo6.shape,\": \\n\", arreglo6)"
      ],
      "execution_count": null,
      "outputs": [
        {
          "output_type": "stream",
          "text": [
            "Un arreglo de 1 multidimensional de (4, 6) : \n",
            " [[1. 1. 1. 1. 1. 1.]\n",
            " [1. 1. 1. 1. 1. 1.]\n",
            " [1. 1. 1. 1. 1. 1.]\n",
            " [1. 1. 1. 1. 1. 1.]]\n"
          ],
          "name": "stdout"
        }
      ]
    },
    {
      "cell_type": "code",
      "metadata": {
        "id": "5-sPtH0ZyL8b",
        "colab": {
          "base_uri": "https://localhost:8080/",
          "height": 126
        },
        "outputId": "0ee3743d-b0d8-4115-eadc-beffe20e957d"
      },
      "source": [
        "arreglo7 = np.zeros((2,2,6))\n",
        "print(\"Un arreglo de 0 multidimensional de\",arreglo7.shape,\": \\n\", arreglo7)"
      ],
      "execution_count": null,
      "outputs": [
        {
          "output_type": "stream",
          "text": [
            "Un arreglo de 0 multidimensional de (2, 2, 6) : \n",
            " [[[0. 0. 0. 0. 0. 0.]\n",
            "  [0. 0. 0. 0. 0. 0.]]\n",
            "\n",
            " [[0. 0. 0. 0. 0. 0.]\n",
            "  [0. 0. 0. 0. 0. 0.]]]\n"
          ],
          "name": "stdout"
        }
      ]
    },
    {
      "cell_type": "markdown",
      "metadata": {
        "id": "kxFe7CEcyXXc"
      },
      "source": [
        "### Ejercicios\n",
        "\n",
        "1. Cree un arreglo de 10 valores desde 0 a 50 en una columna y en la otra desde -500 a 500. \n",
        "\n",
        "2. Cree un arreglo de ceros de 4 dimensiones. "
      ]
    },
    {
      "cell_type": "code",
      "metadata": {
        "id": "h_qFzufWG3n1",
        "colab": {
          "base_uri": "https://localhost:8080/",
          "height": 199
        },
        "outputId": "4e8fd291-8e10-42dc-9d74-34741e08620b"
      },
      "source": [
        "arreglo_p1 = np.linspace([0,-500],[50,500],10)\n",
        "arreglo_p1"
      ],
      "execution_count": null,
      "outputs": [
        {
          "output_type": "execute_result",
          "data": {
            "text/plain": [
              "array([[   0.        , -500.        ],\n",
              "       [   5.55555556, -388.88888889],\n",
              "       [  11.11111111, -277.77777778],\n",
              "       [  16.66666667, -166.66666667],\n",
              "       [  22.22222222,  -55.55555556],\n",
              "       [  27.77777778,   55.55555556],\n",
              "       [  33.33333333,  166.66666667],\n",
              "       [  38.88888889,  277.77777778],\n",
              "       [  44.44444444,  388.88888889],\n",
              "       [  50.        ,  500.        ]])"
            ]
          },
          "metadata": {
            "tags": []
          },
          "execution_count": 58
        }
      ]
    },
    {
      "cell_type": "code",
      "metadata": {
        "id": "xZ5kRKoBH3FM"
      },
      "source": [
        "#Puntos iniciales\n",
        "#init = 5\n",
        "init = [0,-500]\n",
        "end = [50,500]\n",
        "arreglo_p1 = np.linspace(init,end,10)"
      ],
      "execution_count": null,
      "outputs": []
    },
    {
      "cell_type": "code",
      "metadata": {
        "id": "GogeiOKpIdJJ",
        "colab": {
          "base_uri": "https://localhost:8080/",
          "height": 690
        },
        "outputId": "122dc260-92d6-4f6b-97d8-28b8683037f7"
      },
      "source": [
        "#zeros y ones\n",
        "np.zeros((3,4,2,3)) #Tensor"
      ],
      "execution_count": null,
      "outputs": [
        {
          "output_type": "execute_result",
          "data": {
            "text/plain": [
              "array([[[[0., 0., 0.],\n",
              "         [0., 0., 0.]],\n",
              "\n",
              "        [[0., 0., 0.],\n",
              "         [0., 0., 0.]],\n",
              "\n",
              "        [[0., 0., 0.],\n",
              "         [0., 0., 0.]],\n",
              "\n",
              "        [[0., 0., 0.],\n",
              "         [0., 0., 0.]]],\n",
              "\n",
              "\n",
              "       [[[0., 0., 0.],\n",
              "         [0., 0., 0.]],\n",
              "\n",
              "        [[0., 0., 0.],\n",
              "         [0., 0., 0.]],\n",
              "\n",
              "        [[0., 0., 0.],\n",
              "         [0., 0., 0.]],\n",
              "\n",
              "        [[0., 0., 0.],\n",
              "         [0., 0., 0.]]],\n",
              "\n",
              "\n",
              "       [[[0., 0., 0.],\n",
              "         [0., 0., 0.]],\n",
              "\n",
              "        [[0., 0., 0.],\n",
              "         [0., 0., 0.]],\n",
              "\n",
              "        [[0., 0., 0.],\n",
              "         [0., 0., 0.]],\n",
              "\n",
              "        [[0., 0., 0.],\n",
              "         [0., 0., 0.]]]])"
            ]
          },
          "metadata": {
            "tags": []
          },
          "execution_count": 60
        }
      ]
    },
    {
      "cell_type": "code",
      "metadata": {
        "cellView": "form",
        "id": "aKZ7FSyhy98x"
      },
      "source": [
        "#@title Vea la solución **aquí**\n",
        "\n",
        "arreglo1 = np.linspace([0,-500],[50,500],10)\n",
        "#print(arreglo1)\n",
        "arreglo2 = np.zeros((1,3,4,2))\n",
        "#print(arreglo2.ndim)\n"
      ],
      "execution_count": null,
      "outputs": []
    },
    {
      "cell_type": "markdown",
      "metadata": {
        "id": "kMIbpUE_rHtw"
      },
      "source": [
        "## Operaciones en Numpy\n",
        "\n",
        "Los arreglos de Numpy son básicamente vectores y se pueden hacer operaciones punto a punto lo cual facilita en gran medida la simplicidad a la hora de escribir y hacer ejecicios\n",
        "\n",
        "[Mas info de numpy](https://numpy.org/doc/)"
      ]
    },
    {
      "cell_type": "code",
      "metadata": {
        "id": "je4x-nMCgt1m",
        "colab": {
          "base_uri": "https://localhost:8080/",
          "height": 72
        },
        "outputId": "420a582a-1cfa-4f08-f1a2-e511deea08ed"
      },
      "source": [
        "import numpy as np\n",
        "\n",
        "#Suma de dos listas de valores sólo usando +\n",
        "\n",
        "y1 = np.linspace(0,2,10)\n",
        "y2 = np.linspace(-2,2,10)\n",
        "print(y1 + y2)"
      ],
      "execution_count": null,
      "outputs": [
        {
          "output_type": "stream",
          "text": [
            "[-2.00000000e+00 -1.33333333e+00 -6.66666667e-01 -1.11022302e-16\n",
            "  6.66666667e-01  1.33333333e+00  2.00000000e+00  2.66666667e+00\n",
            "  3.33333333e+00  4.00000000e+00]\n"
          ],
          "name": "stdout"
        }
      ]
    },
    {
      "cell_type": "code",
      "metadata": {
        "id": "sdZD3x2hu5TF"
      },
      "source": [
        "# Usando funciones matématicas\n",
        "theta = np.linspace(0,np.pi*2,360)\n",
        "R = 5\n",
        "x = R*np.cos(theta)\n",
        "y = R*np.sin(theta)"
      ],
      "execution_count": null,
      "outputs": []
    },
    {
      "cell_type": "code",
      "metadata": {
        "id": "FcXJWaXqJ7Vd"
      },
      "source": [
        "test1 = x**2\n",
        "test2 = y.T*y"
      ],
      "execution_count": null,
      "outputs": []
    },
    {
      "cell_type": "code",
      "metadata": {
        "id": "o4kq7J_Kgx_k"
      },
      "source": [
        "# Función lógica\n",
        "x = np.linspace(-5,5,200)\n",
        "#seleccionar los positivos\n",
        "cond1 = x>0 #Arreglo Booleanas True si es mayor a 0 \n",
        "cond2 = x<2 #Arreglo Booleanas True si es menor a 2\n",
        "#and or not --> para una sóla variable boolena\n",
        "x_pos = x[x>0]\n",
        "x_0_2 = x[(cond1) & (cond2)] #Comparar arreglos lógicos uso &(and) | (or) ~(not)\n",
        "y = np.sqrt(x_pos)"
      ],
      "execution_count": null,
      "outputs": []
    },
    {
      "cell_type": "markdown",
      "metadata": {
        "id": "jZx8abrEgRvG"
      },
      "source": [
        "Muchas tareas de operaciones matemáticas en Python son realizadas con una función **vectorizada**, generalmente oprimizada en lenguaje C, lo cual hace más óptimo el manejo de memoria o ejecución."
      ]
    },
    {
      "cell_type": "code",
      "metadata": {
        "id": "cGR2aRiNezDR"
      },
      "source": [
        "#@title Medir tiempos\n",
        "def sum_along_rows(matrix = np.array([[1,2],[3,4]])):\n",
        "  row_sum = np.zeros(matrix.shape[1], dtype=float)\n",
        "  for i in range(matrix.shape[0]):\n",
        "    for j in range(matrix.shape[1]):\n",
        "      row_sum[j] += matrix[i,j]\n",
        "  return row_sum\n",
        "\n",
        "tiny_matrix = np.random.uniform(low=-10, high=10, size=(10,10))\n",
        "huge_matrix = np.random.uniform(low=-10, high=10, size=(10000,10000))"
      ],
      "execution_count": null,
      "outputs": []
    },
    {
      "cell_type": "code",
      "metadata": {
        "id": "sWQ0scUXf7Uy",
        "colab": {
          "base_uri": "https://localhost:8080/",
          "height": 54
        },
        "outputId": "df22d7bb-03da-46ad-95bf-e326e685e4fb"
      },
      "source": [
        "%timeit -n 1000 np.sum(tiny_matrix,axis=1)\n",
        "%timeit -n 1000 sum_along_rows(tiny_matrix)"
      ],
      "execution_count": null,
      "outputs": [
        {
          "output_type": "stream",
          "text": [
            "1000 loops, best of 3: 4.5 µs per loop\n",
            "1000 loops, best of 3: 50.4 µs per loop\n"
          ],
          "name": "stdout"
        }
      ]
    },
    {
      "cell_type": "code",
      "metadata": {
        "id": "opLuQZzQiMnY",
        "colab": {
          "base_uri": "https://localhost:8080/",
          "height": 54
        },
        "outputId": "1667dbaf-2508-4389-afa5-a3b329e77e60"
      },
      "source": [
        "%timeit -n 1 np.sum(huge_matrix,axis=1)\n",
        "%timeit -n 1 sum_along_rows(huge_matrix)"
      ],
      "execution_count": null,
      "outputs": [
        {
          "output_type": "stream",
          "text": [
            "1 loop, best of 3: 68.9 ms per loop\n",
            "1 loop, best of 3: 46.1 s per loop\n"
          ],
          "name": "stdout"
        }
      ]
    }
  ]
}