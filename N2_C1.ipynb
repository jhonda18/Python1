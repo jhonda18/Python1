{
  "nbformat": 4,
  "nbformat_minor": 0,
  "metadata": {
    "colab": {
      "name": "N2_C1.ipynb",
      "provenance": [],
      "collapsed_sections": [
        "TSmO0DOwHc6c",
        "_caKRNVmRtv_",
        "u6vnKjGeQ5Pu",
        "VlFj1NUp3LZG"
      ],
      "include_colab_link": true
    },
    "kernelspec": {
      "name": "python3",
      "display_name": "Python 3"
    }
  },
  "cells": [
    {
      "cell_type": "markdown",
      "metadata": {
        "id": "view-in-github",
        "colab_type": "text"
      },
      "source": [
        "<a href=\"https://colab.research.google.com/github/jhonda18/Python1/blob/main/N2_C1.ipynb\" target=\"_parent\"><img src=\"https://colab.research.google.com/assets/colab-badge.svg\" alt=\"Open In Colab\"/></a>"
      ]
    },
    {
      "cell_type": "markdown",
      "metadata": {
        "id": "Rf_b8XQuMsgL"
      },
      "source": [
        "<p><img alt=\"Colaboratory logo\" height=\"140px\" src=\"https://upload.wikimedia.org/wikipedia/commons/archive/f/fb/20161010213812%21Escudo-UdeA.svg\" align=\"left\" hspace=\"10px\" vspace=\"0px\"></p>\n",
        "\n",
        "<h1> <b> Técnicas computacionales en Python para Ciencias Económicas - Universidad de Antioquia </b> </h1>\n",
        "<hr size=10 noshade color=\"green\">\n",
        "<p>\n",
        "<img alt=\"CC BY-NC-SA logo\" height=\"70px\" src=\"https://lahormigonera.info/wp-content/uploads/2014/04/by-nc-sa-ccLicense.png\" align=\"left\" hspace=\"0px\" vspace=\"0px\">\n",
        "</p>\n",
        "\n",
        "<div align=\"right\">  \n",
        "Este documento está bajo licencia <a href=\"https://creativecommons.org/licenses/by-nc-sa/4.0/deed.es\">[CC BY-NC-SA]</a><br> \n",
        "<a href=\"mailto:sheryl.avendano@udea.edu.co\"> ✉ Sheryl Avendaño </a> ,  <a href=\"mailto:sergio.sanes@udea.edu.co\"> ✉ Sergio Sanes </a>, <a href=\"mailto: mario.sucerquia@udea.edu.co\"> ✉ Mario Sucerquia </a><br>\n",
        "Versión actualizada: 3-Ago-2020\n",
        "</div>\n",
        "\n",
        "<br>\n",
        "\n",
        "**El presente curso hace parte de la Facultad de Ciencias Económicas (FCE) de la Universidad de Antioquia.**\n",
        "\n",
        "El curso será dictado en 16 sesiones o clases de 2 horas los días martes y jueves por medio de Google meeting. Para un total de dedicación temporal de 32 horas. \n"
      ]
    },
    {
      "cell_type": "markdown",
      "metadata": {
        "id": "TSmO0DOwHc6c"
      },
      "source": [
        "# **Ciclos y condicionales**\n",
        "\n",
        "En algoritmia básica se conoce como estructuras las formas en cómo se ejecutan las ordenes que le damos al computador. Por ejemplo:"
      ]
    },
    {
      "cell_type": "code",
      "metadata": {
        "id": "dUWsPSZMHb9V"
      },
      "source": [
        "#La estructura secuencial\n",
        "variable = 45\n",
        "variable_cuadrado = variable ** 2\n",
        "polinomio = 5* variable_cuadrado + 3 * variable + 5"
      ],
      "execution_count": null,
      "outputs": []
    },
    {
      "cell_type": "markdown",
      "metadata": {
        "id": "_caKRNVmRtv_"
      },
      "source": [
        "## Los condicionales\n",
        "\n",
        "Sin embargo muchas veces las ordenes tienden a ser condicionadas, como por ejemplo hallar la raíz cuadrada de un número la cual sería compleja si el número es negativo, por la cual el proceso en este caso tendría que ser diferente, o seguir ciertos pasos bajo ciertas condiciones. A este tipo de estructura se llama condicional. "
      ]
    },
    {
      "cell_type": "markdown",
      "metadata": {
        "id": "uExq1QK-Ipqz"
      },
      "source": [
        "\n",
        "\n",
        "<div  align=\"center\">\n",
        "<img alt=\"CC BY-NC-SA logo\" src=\"https://drive.google.com/uc?id=1zrt1dZP_9ujKCo2gFDb7LdMliTYjL_Oq\" align=\"center\" hspace=\"0px\" vspace=\"0px\" height=\"400px\">\n",
        "</div>"
      ]
    },
    {
      "cell_type": "code",
      "metadata": {
        "id": "-9cNPBAaI5sF",
        "colab": {
          "base_uri": "https://localhost:8080/"
        },
        "outputId": "7d4029a4-992c-4f47-a29f-061c004f0bb1"
      },
      "source": [
        "#@title La estructura condicional\n",
        "numero =  7#@param {type:\"number\"}\n",
        "if numero >= 0 :\n",
        "  print(\"El número es mayor igual a 0\")\n",
        "else:\n",
        "  print(\"El número es negativo\")"
      ],
      "execution_count": null,
      "outputs": [
        {
          "output_type": "stream",
          "text": [
            "El número es mayor igual a 0\n"
          ],
          "name": "stdout"
        }
      ]
    },
    {
      "cell_type": "code",
      "metadata": {
        "id": "rj0Dd1VW2__F",
        "colab": {
          "base_uri": "https://localhost:8080/"
        },
        "outputId": "9c9ae205-1b7a-405e-bdf9-baca9bcdff31"
      },
      "source": [
        "zero = 0\n",
        "if zero==0:\n",
        "  print(\"El número es 0\")\n",
        "else:\n",
        "  print(\"El número no es 0\")\n",
        "  #if numero==9:\n",
        "    #if "
      ],
      "execution_count": null,
      "outputs": [
        {
          "output_type": "stream",
          "text": [
            "El número es 0\n"
          ],
          "name": "stdout"
        }
      ]
    },
    {
      "cell_type": "markdown",
      "metadata": {
        "id": "7m3IWpGXKdta"
      },
      "source": [
        "<div  align=\"center\">\n",
        "<img alt=\"CC BY-NC-SA logo\" src=\"https://drive.google.com/uc?id=1P_Yc7aCkJImmAsFTccZe5Fi60Y1sR8CN\" align=\"center\" hspace=\"0px\" vspace=\"0px\" height=\"400px\">\n",
        "</div>"
      ]
    },
    {
      "cell_type": "code",
      "metadata": {
        "id": "FuUxEQjOKrdF",
        "colab": {
          "base_uri": "https://localhost:8080/"
        },
        "outputId": "b9980817-f14c-4b40-c7b1-aeb53e8639e6"
      },
      "source": [
        "#@title La estructura condicional\n",
        "\n",
        "\n",
        "#@markdown Ingresa un carácter, puede ser una letra, dígito u otro\n",
        "caracter =  \"A\"#@param {type:\"string\"}\n",
        "if len(caracter)!=1 :\n",
        "  print(\"Debe ser un carácter\")\n",
        "elif caracter.isalpha():\n",
        "  print(\"Es una letra\")\n",
        "elif caracter.isdigit():\n",
        "  print(\"Es un digito\")\n",
        "elif caracter.isspace():\n",
        "  print(\"Es un espacio\")\n",
        "else:\n",
        "  print(\"No es letra, dígito o espacio\")"
      ],
      "execution_count": null,
      "outputs": [
        {
          "output_type": "stream",
          "text": [
            "Es una letra\n"
          ],
          "name": "stdout"
        }
      ]
    },
    {
      "cell_type": "code",
      "metadata": {
        "id": "ZG78G9kF5iaO"
      },
      "source": [
        "#help(str)\n",
        "#?str\n",
        "#https://docs.python.org/"
      ],
      "execution_count": null,
      "outputs": []
    },
    {
      "cell_type": "markdown",
      "metadata": {
        "id": "9Ckq7OSFRzBv"
      },
      "source": [
        "## Los ciclos\n",
        "Entre más vamos programando más vamos haciendo cosas repetitivas, muchas veces queremos recorrer un objeto iterable y para ello necesitamos una estructura que resuman la secuencia que necesitamos que se repita. O en algunos casos necesitamos que se repitan las cosas hasta que se logra cumplir una condición. Este tipo de estructura es llama estructura cíclica"
      ]
    },
    {
      "cell_type": "markdown",
      "metadata": {
        "id": "tdKEw-jdKq3O"
      },
      "source": [
        ". \n",
        "\n",
        "<div  align=\"center\">\n",
        "<img alt=\"CC BY-NC-SA logo\" src=\"https://drive.google.com/uc?id=1-iwbiyi7liNXEJdQo_xJcKl0gULvdoFP\" align=\"center\" hspace=\"0px\" vspace=\"0px\" height=\"400px\">\n",
        "</div>"
      ]
    },
    {
      "cell_type": "code",
      "metadata": {
        "id": "HU90pNMRMxxD",
        "colab": {
          "base_uri": "https://localhost:8080/"
        },
        "outputId": "d7c67a5e-a504-4a89-b7f5-dd0746bf3d8a"
      },
      "source": [
        "#@title La estructura cíclica\n",
        "\n",
        "#@markdown Ingresa una \"contraseña\" con por lo menos una mayúsculas, minúsculas, números y símbolos sin espacios\n",
        "password =  \"aja y t\\xFA qu\\xE9?\"#@param {type:\"string\"}\n",
        "\n",
        "for letra in password:\n",
        "  es_al_num = letra.isalnum()\n",
        "  no_es_espacio = not letra.isspace()\n",
        "  es_simbolo = not es_al_num and no_es_espacio\n",
        "  es_correcto = es_al_num or es_simbolo\n",
        "  print(\"¿El carácter: \",letra, \"es correcto?\", es_correcto)"
      ],
      "execution_count": null,
      "outputs": [
        {
          "output_type": "stream",
          "text": [
            "¿El carácter:  a es correcto? True\n",
            "¿El carácter:  j es correcto? True\n",
            "¿El carácter:  a es correcto? True\n",
            "¿El carácter:    es correcto? False\n",
            "¿El carácter:  y es correcto? True\n",
            "¿El carácter:    es correcto? False\n",
            "¿El carácter:  t es correcto? True\n",
            "¿El carácter:  ú es correcto? True\n",
            "¿El carácter:    es correcto? False\n",
            "¿El carácter:  q es correcto? True\n",
            "¿El carácter:  u es correcto? True\n",
            "¿El carácter:  é es correcto? True\n",
            "¿El carácter:  ? es correcto? True\n"
          ],
          "name": "stdout"
        }
      ]
    },
    {
      "cell_type": "markdown",
      "metadata": {
        "id": "6jyp6kqXP9fO"
      },
      "source": [
        "<div  align=\"center\">\n",
        "<img alt=\"CC BY-NC-SA logo\" src=\"https://drive.google.com/uc?id=1Otr3fxl_JOrq6bCe0dGHW0uf2nvn3byz\" align=\"center\" hspace=\"0px\" vspace=\"0px\" height=\"400px\">\n",
        "</div>"
      ]
    },
    {
      "cell_type": "code",
      "metadata": {
        "id": "AgI3phxyP9MR",
        "colab": {
          "base_uri": "https://localhost:8080/"
        },
        "outputId": "99305227-9788-4fc0-d5f0-0f9261889b85"
      },
      "source": [
        "#@title La estructura cíclica\n",
        "\n",
        "#@markdown Ingresa una \"contraseña\" con por lo menos una mayúsculas, minúsculas, números y símbolos sin espacios\n",
        "password =  \"p assWORD_123$\"#@param {type:\"string\"}\n",
        "\n",
        "es_correcto  = True\n",
        "i = 0\n",
        "while es_correcto and i<len(password):\n",
        "  letra = password[i]\n",
        "  es_al_num = letra.isalnum()\n",
        "  no_es_espacio = not letra.isspace()\n",
        "  es_simbolo = not es_al_num and no_es_espacio\n",
        "  es_correcto = es_al_num or es_simbolo\n",
        "  print(\"¿El carácter: \",letra, \"es correcto?\", es_correcto)\n",
        "  i +=1"
      ],
      "execution_count": null,
      "outputs": [
        {
          "output_type": "stream",
          "text": [
            "¿El carácter:  p es correcto? True\n",
            "¿El carácter:    es correcto? False\n"
          ],
          "name": "stdout"
        }
      ]
    },
    {
      "cell_type": "markdown",
      "metadata": {
        "id": "u6vnKjGeQ5Pu"
      },
      "source": [
        "## El control del ciclo \n",
        "\n",
        "Los ciclos son complicados por sí solos dado a que consumen mucho del tiempo de ejecución. Por ello tenemos ciertos controladores para hacer más fácil el manejo de éstos:"
      ]
    },
    {
      "cell_type": "code",
      "metadata": {
        "id": "eMXYEx6QRE-0",
        "colab": {
          "base_uri": "https://localhost:8080/"
        },
        "outputId": "f4411489-62b9-4368-f456-7e99bfce8310"
      },
      "source": [
        "for letra in \"Python\":\n",
        "  if letra == \"h\":\n",
        "    break\n",
        "  print(\"Letra actual:\",letra)"
      ],
      "execution_count": null,
      "outputs": [
        {
          "output_type": "stream",
          "text": [
            "Letra actual: P\n",
            "Letra actual: y\n",
            "Letra actual: t\n"
          ],
          "name": "stdout"
        }
      ]
    },
    {
      "cell_type": "code",
      "metadata": {
        "id": "Y4W9FpI0RUe3",
        "colab": {
          "base_uri": "https://localhost:8080/"
        },
        "outputId": "de98a485-8d45-485e-d0de-9effa1642ed4"
      },
      "source": [
        "for letra in \"Python\":\n",
        "  if letra == \"h\":\n",
        "    continue\n",
        "  print(\"Letra actual:\",letra)"
      ],
      "execution_count": null,
      "outputs": [
        {
          "output_type": "stream",
          "text": [
            "Letra actual: P\n",
            "Letra actual: y\n",
            "Letra actual: t\n",
            "Letra actual: o\n",
            "Letra actual: n\n"
          ],
          "name": "stdout"
        }
      ]
    },
    {
      "cell_type": "code",
      "metadata": {
        "id": "69uzgNShRWpP",
        "colab": {
          "base_uri": "https://localhost:8080/"
        },
        "outputId": "be948903-ae8e-4cf3-862e-abeb765d93a2"
      },
      "source": [
        "for letra in \"Python\":\n",
        "  if letra == \"h\":\n",
        "    pass\n",
        "  print(\"Letra actual:\",letra)"
      ],
      "execution_count": null,
      "outputs": [
        {
          "output_type": "stream",
          "text": [
            "Letra actual: P\n",
            "Letra actual: y\n",
            "Letra actual: t\n",
            "Letra actual: h\n",
            "Letra actual: o\n",
            "Letra actual: n\n"
          ],
          "name": "stdout"
        }
      ]
    },
    {
      "cell_type": "markdown",
      "metadata": {
        "id": "MOlxDjNLRrTg"
      },
      "source": [
        "## Ejercicio\n",
        "\n",
        "Completar el código para determinar si la contraseña ingresada es correcta. "
      ]
    },
    {
      "cell_type": "markdown",
      "metadata": {
        "id": "VlFj1NUp3LZG"
      },
      "source": [
        "# **Las colecciones básicas de Python**\n"
      ]
    },
    {
      "cell_type": "markdown",
      "metadata": {
        "id": "CNrvIw9QXySM"
      },
      "source": [
        "\n",
        "Una colección en python es un objeto que permite agrupar varios objetos bajo un mismo nombre, en donde se pueden agrupar varias clases sin seguir una estructura homogénea todo ello con distintos objetivos. Se divide en:\n",
        "\n",
        "* Las indexadas :\n",
        "  * Las Tuplas\n",
        "  * Las Listas\n",
        "* Las no indexadas:\n",
        "  * Los conjuntos\n",
        "  * Los Diccionarios\n"
      ]
    },
    {
      "cell_type": "markdown",
      "metadata": {
        "id": "1NNTTamcGvez"
      },
      "source": [
        "##Las colecciones indexadas\n",
        "\n",
        "Se ordenan por índices partiendo desde el 0. Las listas  y las tuplas son muy similares a las tuplas, excepto por que las tuplas son inmutables como las cadenas y se usan mucho para mover información entre funciones ya que su principal utilidad es mover información compacta sin peligro de que sea modificada. Su tipo es `class tuple`. Las listas en cambio sí son mutables. Su tipo es `class list`\n",
        "\n"
      ]
    },
    {
      "cell_type": "code",
      "metadata": {
        "id": "Am0UEWW-4CCs",
        "colab": {
          "base_uri": "https://localhost:8080/"
        },
        "outputId": "2ec27d36-514f-4bc5-da3e-d661adcb05b3"
      },
      "source": [
        "tupla1 = (8,9.0,3+4j,'cadena')\n",
        "print(tupla1)\n",
        "print(type(tupla1))"
      ],
      "execution_count": null,
      "outputs": [
        {
          "output_type": "stream",
          "text": [
            "(8, 9.0, (3+4j), 'cadena')\n",
            "<class 'tuple'>\n"
          ],
          "name": "stdout"
        }
      ]
    },
    {
      "cell_type": "code",
      "metadata": {
        "id": "0SWX9GJL9JC8",
        "colab": {
          "base_uri": "https://localhost:8080/"
        },
        "outputId": "edfa1191-9a77-47ae-8c46-ca0c94b20413"
      },
      "source": [
        "lista1 = [1,\"2\",3.0,4+4j] \n",
        "print(type(lista1))"
      ],
      "execution_count": null,
      "outputs": [
        {
          "output_type": "stream",
          "text": [
            "<class 'list'>\n"
          ],
          "name": "stdout"
        }
      ]
    },
    {
      "cell_type": "markdown",
      "metadata": {
        "id": "2R7JFFs24uRs"
      },
      "source": [
        "### Operaciones \n",
        "\n",
        "Tanto las tuplas como las listas son iterables como los strings, concatenan, repiten y desempaquetan.\n",
        "\n",
        "\n",
        "\n"
      ]
    },
    {
      "cell_type": "markdown",
      "metadata": {
        "id": "I7AiXaHZ4aaw"
      },
      "source": [
        "#### Corte\n",
        "\n",
        "Las tuplas y las listas son iterables podemos usar el operador `[]` para hacer cortes o seleccionar un valor. La mayor diferencia entre ellas es que las tuplas son inmutables como los string.\n"
      ]
    },
    {
      "cell_type": "code",
      "metadata": {
        "id": "MR_kkPQJ4Y8G",
        "colab": {
          "base_uri": "https://localhost:8080/"
        },
        "outputId": "95e1cb4a-8eed-4ca3-afcb-14fb2bd939a7"
      },
      "source": [
        "tupla2 = ('Fulano','de Tal',123456789,(12,'May',1980))\n",
        "print('Este es el segundo elemento de la tupla: ',tupla2[1])\n",
        "print('La longitud de la tupla es: ',len(tupla2))\n",
        "print('Seleccionemos desde el elemento #2 hasta el #3:',tupla2[1:3])\n",
        "print('También podemos acceder a la tupla en la tupla:',tupla2[-1][1])\n",
        "#Esto es un error!\n",
        "#tupla2[0] = 'e'"
      ],
      "execution_count": null,
      "outputs": [
        {
          "output_type": "stream",
          "text": [
            "Este es el segundo elemento de la tupla:  de Tal\n",
            "La longitud de la tupla es:  4\n",
            "Seleccionemos desde el elemento #2 hasta el #3: ('de Tal', 123456789)\n",
            "También podemos acceder a la tupla en la tupla: May\n"
          ],
          "name": "stdout"
        }
      ]
    },
    {
      "cell_type": "code",
      "metadata": {
        "id": "LshT8GtL9m9L",
        "colab": {
          "base_uri": "https://localhost:8080/"
        },
        "outputId": "1c4bcbcb-a5d3-47aa-9021-ed4697d24146"
      },
      "source": [
        "lista2 = [1,\"2\",3.0,4+4j,(5,6,7),[8,9]]\n",
        "print('Este es el quinto elemento de la lista: ',lista2[4])\n",
        "print('La longitud de la lista es: ',len(lista2))\n",
        "print('Seleccionemos desde el elemento #4 hasta el útimo elemento:',lista2[3:])\n",
        "print('También podemos acceder a un parte de la tupla en la lista:',lista2[-2][0:2])\n",
        "lista2[0] = 'Change!'\n",
        "print(\"Cambiemos el primer valor:\",lista2)"
      ],
      "execution_count": null,
      "outputs": [
        {
          "output_type": "stream",
          "text": [
            "Este es el quinto elemento de la lista:  (5, 6, 7)\n",
            "La longitud de la lista es:  6\n",
            "Seleccionemos desde el elemento #4 hasta el útimo elemento: [(4+4j), (5, 6, 7), [8, 9]]\n",
            "También podemos acceder a un parte de la tupla en la lista: (5, 6)\n",
            "Cambiemos el primer valor: ['Change!', '2', 3.0, (4+4j), (5, 6, 7), [8, 9]]\n"
          ],
          "name": "stdout"
        }
      ]
    },
    {
      "cell_type": "markdown",
      "metadata": {
        "id": "0SRFYH3I69mO"
      },
      "source": [
        "#### Concatenar y repetir\n",
        "\n",
        "Al ser conjuntos de elementos la operación (+) y (*) concatenan los conjuntos y repiten los elementos:"
      ]
    },
    {
      "cell_type": "code",
      "metadata": {
        "id": "2njjhsia7PvN",
        "colab": {
          "base_uri": "https://localhost:8080/"
        },
        "outputId": "a8c59f34-4849-458e-c8d1-8654ed05320c"
      },
      "source": [
        "tupla3 = (1,4,'aja')\n",
        "tupla4 = ('cadena',(1,2))\n",
        "print(tupla3+tupla4)\n",
        "print(tupla3*3)"
      ],
      "execution_count": null,
      "outputs": [
        {
          "output_type": "stream",
          "text": [
            "(1, 4, 'aja', 'cadena', (1, 2))\n",
            "(1, 4, 'aja', 1, 4, 'aja', 1, 4, 'aja')\n"
          ],
          "name": "stdout"
        }
      ]
    },
    {
      "cell_type": "code",
      "metadata": {
        "id": "dGam7Dkk9m9V",
        "colab": {
          "base_uri": "https://localhost:8080/"
        },
        "outputId": "bb4c1cdf-c343-40b7-a056-2f1886d1289d"
      },
      "source": [
        "lista3 = [1,2,3]\n",
        "lista4 = [4,5,6]\n",
        "print(lista3+lista4)\n",
        "print(lista3*3)"
      ],
      "execution_count": null,
      "outputs": [
        {
          "output_type": "stream",
          "text": [
            "[1, 2, 3, 4, 5, 6]\n",
            "[1, 2, 3, 1, 2, 3, 1, 2, 3]\n"
          ],
          "name": "stdout"
        }
      ]
    },
    {
      "cell_type": "markdown",
      "metadata": {
        "id": "WuMtjCG-6iB5"
      },
      "source": [
        "#### Desempaquetar\n",
        "\n",
        "El desempaquetamiento es básicamente la asignación de cada uno de los valores de la tupla o lista a una variable correspondiente: "
      ]
    },
    {
      "cell_type": "code",
      "metadata": {
        "id": "t0GP9Kje6YIx",
        "colab": {
          "base_uri": "https://localhost:8080/"
        },
        "outputId": "23b9f2a2-0de1-4c7f-aae6-ffe13194a507"
      },
      "source": [
        "dia, _ , año = tupla2[-1]\n",
        "print(año)"
      ],
      "execution_count": null,
      "outputs": [
        {
          "output_type": "stream",
          "text": [
            "1980\n"
          ],
          "name": "stdout"
        }
      ]
    },
    {
      "cell_type": "markdown",
      "metadata": {
        "id": "ohtALnRIoe3U"
      },
      "source": [
        "### Ejercicio \n",
        "\n",
        "Cree una tupla con su nombre, apellido, una tupla con su fecha de nacimiento, su ciudad de nacimiento, llamele `mi_info` "
      ]
    },
    {
      "cell_type": "code",
      "metadata": {
        "id": "4_T1XW-7I2QM",
        "colab": {
          "base_uri": "https://localhost:8080/"
        },
        "outputId": "83713f9d-f097-4da2-9a25-bf914a7599ef"
      },
      "source": [
        "mi_info = (\"Sheryl\",\"Avendaño\",(10,12,1987),\"Santa Marta\")\n",
        "type(mi_info)"
      ],
      "execution_count": null,
      "outputs": [
        {
          "output_type": "execute_result",
          "data": {
            "text/plain": [
              "tuple"
            ]
          },
          "metadata": {
            "tags": []
          },
          "execution_count": 18
        }
      ]
    },
    {
      "cell_type": "markdown",
      "metadata": {
        "id": "Cb_DR_3o7hcR"
      },
      "source": [
        "### Métodos en tuplas y listas\n",
        "\n",
        "Las tuplas sólo tienen dos métodos `index` que me permite saber el índice en donde se encuentra (a primer match) un valor y `count` que cuenta cuantas veces existe un valor en la tupla.\n",
        "\n"
      ]
    },
    {
      "cell_type": "code",
      "metadata": {
        "id": "JbrqYmmE68ap",
        "colab": {
          "base_uri": "https://localhost:8080/"
        },
        "outputId": "4306e704-ccf9-4c7b-cb87-327f22fe3548"
      },
      "source": [
        "tupla5 = (1,2,3,4,2)\n",
        "print(\"Primer índice donde aparece el 2:\",tupla5.index(2))\n",
        "print(\"Número de veces que está el 2 en la tupla:\",tupla5.count(2))"
      ],
      "execution_count": null,
      "outputs": [
        {
          "output_type": "stream",
          "text": [
            "Primer índice donde aparece el 2: 1\n",
            "Número de veces que está el 2 en la tupla: 2\n"
          ],
          "name": "stdout"
        }
      ]
    },
    {
      "cell_type": "markdown",
      "metadata": {
        "id": "yDWzrwkjAuK8"
      },
      "source": [
        "\n",
        "Las listas o la clase **list** tiene varios métodos, cuando creamos cualquier lista enseguida podemos acceder a estos.  Veamos algunos:\n",
        "\n",
        "Siendo list_obj el nombre del objeto que es tipo list tenemos:"
      ]
    },
    {
      "cell_type": "code",
      "metadata": {
        "id": "fjmDpfHDY4VO"
      },
      "source": [
        "lista_num = [1,2,3,4]"
      ],
      "execution_count": null,
      "outputs": []
    },
    {
      "cell_type": "markdown",
      "metadata": {
        "id": "Epqm5JjkCVX7"
      },
      "source": [
        "#### Métodos para modificar longitud\n",
        "\n",
        "* `list_obj.append(x)`: Agrega un ítem al final de la lista.\n",
        "* `list_obj.extend([x,y,z])`: Agrega varios ítems al final de la lista.\n",
        "* `list_obj.insert(i,x)`: Inserta un ítem en una posición dada. El primer argumento es el índice del ítem delante del cual se insertará. \n",
        "* `list_obj.remove(x)`: Quita el primer ítem de la lista cuyo valor sea x. Es un error si no existe tal ítem\n",
        "* `list_obj.pop([i])`: Quita el ítem en la posición dada de la lista, y lo devuelve. Si no se especifica un índice, pop() quita y devuelve el último ítem de la lista.\n"
      ]
    },
    {
      "cell_type": "code",
      "metadata": {
        "id": "4tRmYIY9KB7Z"
      },
      "source": [
        "lista_num.append(5)"
      ],
      "execution_count": null,
      "outputs": []
    },
    {
      "cell_type": "code",
      "metadata": {
        "id": "toxIhBc2KH1i",
        "colab": {
          "base_uri": "https://localhost:8080/"
        },
        "outputId": "4f8dacbe-69e1-42d0-870b-c4672be46016"
      },
      "source": [
        "lista_num"
      ],
      "execution_count": null,
      "outputs": [
        {
          "output_type": "execute_result",
          "data": {
            "text/plain": [
              "[1, 2, 3, 4, 5]"
            ]
          },
          "metadata": {
            "tags": []
          },
          "execution_count": 22
        }
      ]
    },
    {
      "cell_type": "code",
      "metadata": {
        "id": "2sOxWy8MEldf",
        "colab": {
          "base_uri": "https://localhost:8080/"
        },
        "outputId": "961f12e6-64c7-4f66-a170-c6b8d50b6f20"
      },
      "source": [
        "print(lista_num.pop(1))\n",
        "print(lista_num)"
      ],
      "execution_count": null,
      "outputs": [
        {
          "output_type": "stream",
          "text": [
            "2\n",
            "[1, 3, 4, 5]\n"
          ],
          "name": "stdout"
        }
      ]
    },
    {
      "cell_type": "markdown",
      "metadata": {
        "id": "iwMI5sjPE58W"
      },
      "source": [
        "#### Métodos de búsqueda y orden\n",
        "\n",
        "* `list_obj.count(x)`: Devuelve el número de veces que x aparece en la lista.\n",
        "* `list_obj.sort([key,reverse=False])`: Ordena los ítems de la lista, in situ.\n",
        "* `list_obj.reverse()`: Invierte los elementos de la lista, in situ.\n",
        "* `list_obj.index(x[, start[, end]])`: Devuelve el índice en la lista del primer ítem cuyo valor sea x. Es un error si no existe tal ítem. Los argumentos opcionales start y end son interpretados como la notación de rebanadas y se usan para limitar la búsqueda a una subsecuencia particular de la lista. "
      ]
    },
    {
      "cell_type": "code",
      "metadata": {
        "id": "b0CbZ8AUEv8V",
        "colab": {
          "base_uri": "https://localhost:8080/"
        },
        "outputId": "7febbd4e-38f6-414e-94b2-3e34401f3f09"
      },
      "source": [
        "lista = [1,5,2,6,3,0,2]\n",
        "print(\"Antes:\",lista)\n",
        "lista.reverse()\n",
        "print(\"Después:\",lista)\n",
        "lista.sort()\n",
        "print(\"Después:\",lista)\n",
        "print(\"El 3 está repetido #\",lista.count(3))\n",
        "print(\"El índice donde se encuentra 2 es\",lista.index(2))"
      ],
      "execution_count": null,
      "outputs": [
        {
          "output_type": "stream",
          "text": [
            "Antes: [1, 5, 2, 6, 3, 0, 2]\n",
            "Después: [2, 0, 3, 6, 2, 5, 1]\n",
            "Después: [0, 1, 2, 2, 3, 5, 6]\n",
            "El 3 está repetido # 1\n",
            "El índice donde se encuentra 2 es 2\n"
          ],
          "name": "stdout"
        }
      ]
    },
    {
      "cell_type": "markdown",
      "metadata": {
        "id": "hr4hhxUwGlZp"
      },
      "source": [
        "#### Métodos varios\n",
        "\n",
        "* `list_obj.clear()`: Limpia el espacio de memoria de la lista.\n",
        "* `list_obj.copy()`: Devuelve una copia superficial de la lista. \n"
      ]
    },
    {
      "cell_type": "code",
      "metadata": {
        "id": "X3csMQot9m9R",
        "colab": {
          "base_uri": "https://localhost:8080/"
        },
        "outputId": "a96a2f3d-1fd4-4739-f5a0-c7413f94bc10"
      },
      "source": [
        "lista5 = lista4\n",
        "print(\"Lista original:\",lista4)\n",
        "lista5[0] = \"Change!\"\n",
        "print(\"Luego del cambio\")\n",
        "print(\"Lista copiada:\",lista5)\n",
        "print(\"Lista original:\",lista4)\n"
      ],
      "execution_count": null,
      "outputs": [
        {
          "output_type": "stream",
          "text": [
            "Lista original: [4, 5, 6]\n",
            "Luego del cambio\n",
            "Lista copiada: ['Change!', 5, 6]\n",
            "Lista original: ['Change!', 5, 6]\n"
          ],
          "name": "stdout"
        }
      ]
    },
    {
      "cell_type": "code",
      "metadata": {
        "id": "4DI5uFYRMMJ2",
        "colab": {
          "base_uri": "https://localhost:8080/"
        },
        "outputId": "82aaba3f-d2e4-46ce-bfaa-6089ba588f4c"
      },
      "source": [
        "lista6 = lista5.copy()\n",
        "lista6[0] = \"Aja\"\n",
        "print(\"Lista copiada:\",lista6)\n",
        "print(\"Lista original:\",lista5)"
      ],
      "execution_count": null,
      "outputs": [
        {
          "output_type": "stream",
          "text": [
            "Lista copiada: ['Aja', 5, 6]\n",
            "Lista original: ['Change!', 5, 6]\n"
          ],
          "name": "stdout"
        }
      ]
    },
    {
      "cell_type": "markdown",
      "metadata": {
        "id": "6lQmSnuBo5IT"
      },
      "source": [
        "#### Ejercicio \n",
        "\n",
        "Cree una lista de 5 valores que no sean solo números y haga una copia para \"ordenar\" ¿Cuál es el resultado? Ahora haga una lista de solo letras e inténtelo de nuevo  "
      ]
    },
    {
      "cell_type": "markdown",
      "metadata": {
        "id": "wfKjeMUPJQ46"
      },
      "source": [
        "##Las colecciones no indexadas\n",
        "\n",
        "Un conjunto es una colección no ordenada de objetos únicos, no pueden haber objetos repetidos ni tampoco objetos mutables como listas, diccionarios u otros conjuntos. Su tipo es `class set`\n",
        "\n",
        "Los diccionarios son una estructura no indexada, en donde los elementos no están organizados por un índice sino por un llave. Al igual que en un diccionario hay una palabra relacionada con una definición sucede lo mismo con un diccionario, lo que nos permite creear estructuras mucho más organizadas y que son la base para todo los que es tablas de datos en Python. Su tipo es `class dict`"
      ]
    },
    {
      "cell_type": "code",
      "metadata": {
        "id": "Uz0FVD6-M_8g",
        "colab": {
          "base_uri": "https://localhost:8080/"
        },
        "outputId": "f07742df-20c3-4c52-c03c-ddfb10d7413f"
      },
      "source": [
        "conjunto = {True, 3.14, None, False, \"Hola mundo\", (1, 2)}\n",
        "print(type(conjunto))"
      ],
      "execution_count": null,
      "outputs": [
        {
          "output_type": "stream",
          "text": [
            "<class 'set'>\n"
          ],
          "name": "stdout"
        }
      ]
    },
    {
      "cell_type": "code",
      "metadata": {
        "id": "NBAg8abpG4eR",
        "colab": {
          "base_uri": "https://localhost:8080/"
        },
        "outputId": "6e857b58-f8aa-445d-d3fa-a96b8df118fa"
      },
      "source": [
        "dicc = {'key1':[1,2,3], 'key2':'Cadena'}\n",
        "print(type(dicc))"
      ],
      "execution_count": null,
      "outputs": [
        {
          "output_type": "stream",
          "text": [
            "<class 'dict'>\n"
          ],
          "name": "stdout"
        }
      ]
    },
    {
      "cell_type": "markdown",
      "metadata": {
        "id": "fyu7zxGNIyIM"
      },
      "source": [
        "### Agregando y quitando elementos"
      ]
    },
    {
      "cell_type": "code",
      "metadata": {
        "id": "eyP69yLHYsDZ",
        "colab": {
          "base_uri": "https://localhost:8080/"
        },
        "outputId": "79d65cb6-3621-4ea5-b1c6-7fdbd3d4dfbf"
      },
      "source": [
        "conjunto.add(\"orange\")\n",
        "print(conjunto)"
      ],
      "execution_count": null,
      "outputs": [
        {
          "output_type": "stream",
          "text": [
            "{False, True, (1, 2), 3.14, 'orange', None, 'Hola mundo'}\n"
          ],
          "name": "stdout"
        }
      ]
    },
    {
      "cell_type": "code",
      "metadata": {
        "id": "8Fm_U-MZZG3i",
        "colab": {
          "base_uri": "https://localhost:8080/"
        },
        "outputId": "90b5503f-bde9-4c50-f5f3-399abd22ab09"
      },
      "source": [
        "conjunto.update([4,5,6])\n",
        "print(conjunto)"
      ],
      "execution_count": null,
      "outputs": [
        {
          "output_type": "stream",
          "text": [
            "{False, True, (1, 2), 3.14, 4, 5, 6, 'orange', None, 'Hola mundo'}\n"
          ],
          "name": "stdout"
        }
      ]
    },
    {
      "cell_type": "code",
      "metadata": {
        "id": "irk6hby3Zvqw",
        "colab": {
          "base_uri": "https://localhost:8080/"
        },
        "outputId": "24751c78-7276-4405-b556-1fcb5b97c25d"
      },
      "source": [
        "conjunto.remove(None)\n",
        "print(conjunto)\n",
        "#Si el objeto no existe remove dará error\n",
        "\n",
        "conjunto.discard(\"Aja\")\n",
        "print(conjunto)"
      ],
      "execution_count": null,
      "outputs": [
        {
          "output_type": "stream",
          "text": [
            "{False, True, (1, 2), 3.14, 4, 5, 6, 'orange', 'Hola mundo'}\n",
            "{False, True, (1, 2), 3.14, 4, 5, 6, 'orange', 'Hola mundo'}\n"
          ],
          "name": "stdout"
        }
      ]
    },
    {
      "cell_type": "code",
      "metadata": {
        "id": "ykr8gS_pH244",
        "colab": {
          "base_uri": "https://localhost:8080/"
        },
        "outputId": "75e8d47d-f889-4293-b856-f1e78feae6bb"
      },
      "source": [
        "dicc['key3'] = ('a',1)\n",
        "print(dicc)"
      ],
      "execution_count": null,
      "outputs": [
        {
          "output_type": "stream",
          "text": [
            "{'key1': [1, 2, 3], 'key2': 'Cadena', 'key3': ('a', 1)}\n"
          ],
          "name": "stdout"
        }
      ]
    },
    {
      "cell_type": "code",
      "metadata": {
        "id": "vXt_fcH6IYTe",
        "colab": {
          "base_uri": "https://localhost:8080/"
        },
        "outputId": "18b0474e-2fd3-4944-9610-09bc6163a187"
      },
      "source": [
        "del dicc['key1']\n",
        "print(dicc)"
      ],
      "execution_count": null,
      "outputs": [
        {
          "output_type": "stream",
          "text": [
            "{'key2': 'Cadena', 'key3': ('a', 1)}\n"
          ],
          "name": "stdout"
        }
      ]
    },
    {
      "cell_type": "markdown",
      "metadata": {
        "id": "US8mNjPqI-lZ"
      },
      "source": [
        "### Conociendo el contenido"
      ]
    },
    {
      "cell_type": "code",
      "metadata": {
        "id": "ElMM4XqnfbWv",
        "colab": {
          "base_uri": "https://localhost:8080/"
        },
        "outputId": "81be242a-1aa0-4bb1-8ba9-f4ba4f97376d"
      },
      "source": [
        "for c in conjunto:\n",
        "  print(c)"
      ],
      "execution_count": null,
      "outputs": [
        {
          "output_type": "stream",
          "text": [
            "False\n",
            "True\n",
            "(1, 2)\n",
            "3.14\n",
            "4\n",
            "5\n",
            "6\n",
            "orange\n",
            "Hola mundo\n"
          ],
          "name": "stdout"
        }
      ]
    },
    {
      "cell_type": "code",
      "metadata": {
        "id": "26tDcMJUH1g2",
        "colab": {
          "base_uri": "https://localhost:8080/"
        },
        "outputId": "9d31d99e-2f14-4df6-b3e9-581bd07f7ccb"
      },
      "source": [
        "print(dicc.keys())"
      ],
      "execution_count": null,
      "outputs": [
        {
          "output_type": "stream",
          "text": [
            "dict_keys(['key2', 'key3'])\n"
          ],
          "name": "stdout"
        }
      ]
    },
    {
      "cell_type": "code",
      "metadata": {
        "id": "m6oCUSrNIVQ0",
        "colab": {
          "base_uri": "https://localhost:8080/"
        },
        "outputId": "61063916-7025-41bc-9f34-11ba54413506"
      },
      "source": [
        "print(dicc.values())"
      ],
      "execution_count": null,
      "outputs": [
        {
          "output_type": "stream",
          "text": [
            "dict_values(['Cadena', ('a', 1)])\n"
          ],
          "name": "stdout"
        }
      ]
    },
    {
      "cell_type": "code",
      "metadata": {
        "id": "EpUA3LZPIW7g",
        "colab": {
          "base_uri": "https://localhost:8080/"
        },
        "outputId": "72a707b3-59b9-4dfb-ae35-95efdf0b35b6"
      },
      "source": [
        "print(dicc.items())"
      ],
      "execution_count": null,
      "outputs": [
        {
          "output_type": "stream",
          "text": [
            "dict_items([('key2', 'Cadena'), ('key3', ('a', 1))])\n"
          ],
          "name": "stdout"
        }
      ]
    },
    {
      "cell_type": "markdown",
      "metadata": {
        "id": "BiCO84rOJIDR"
      },
      "source": [
        "### Copiar y limpiar"
      ]
    },
    {
      "cell_type": "code",
      "metadata": {
        "id": "kqhxgTlIfiNg",
        "colab": {
          "base_uri": "https://localhost:8080/"
        },
        "outputId": "1fd28709-17e3-457a-bdc2-6d15bbc7d0f5"
      },
      "source": [
        "conjunto2 = conjunto.copy()\n",
        "conjunto.clear()\n",
        "print(conjunto)"
      ],
      "execution_count": null,
      "outputs": [
        {
          "output_type": "stream",
          "text": [
            "set()\n"
          ],
          "name": "stdout"
        }
      ]
    },
    {
      "cell_type": "code",
      "metadata": {
        "id": "OGybw1K3IkIj",
        "colab": {
          "base_uri": "https://localhost:8080/"
        },
        "outputId": "18055f75-6ef3-4857-e2eb-9939fb2cdbc7"
      },
      "source": [
        "dicc2 = dicc.copy()\n",
        "dicc.clear()\n",
        "print(dicc)"
      ],
      "execution_count": null,
      "outputs": [
        {
          "output_type": "stream",
          "text": [
            "{}\n"
          ],
          "name": "stdout"
        }
      ]
    },
    {
      "cell_type": "markdown",
      "metadata": {
        "id": "7HtzJo0TqzAO"
      },
      "source": [
        "### Ejercicios\n",
        "Cree un diccionario haciendo los mismo que con la tupla `mi_info` pero con las llaves adecuadas. "
      ]
    },
    {
      "cell_type": "markdown",
      "metadata": {
        "id": "CcZI_mzXT-dB"
      },
      "source": [
        "# **Estructuras de bolsillo con colecciones**\n",
        "\n",
        "En Python las cosas se pueden resumir o comprimir, especialmente para los Iterables, que son los objetos que pueden se mueven bajo un index o un llave como las cadenas, listas, tuplas y diccionarios\n",
        "\n"
      ]
    },
    {
      "cell_type": "markdown",
      "metadata": {
        "id": "KUoNM28zGEUY"
      },
      "source": [
        "## Comprimir un condicional\n",
        "\n",
        "Una estructura condicional tipo **if/else** puede usarse para determinar el valor de una varible en función de algún tipo de condición, sin embargo podemos usar estos comando dentro de una asignación para ahorrarnos unas líneas:"
      ]
    },
    {
      "cell_type": "code",
      "metadata": {
        "id": "FoEcMrFzF4J-",
        "colab": {
          "base_uri": "https://localhost:8080/"
        },
        "outputId": "f0646dcb-ba5c-478b-c145-151d227eb767"
      },
      "source": [
        "select = 0\n",
        "\n",
        "if select == 0:\n",
        "  var = 1.0\n",
        "else:\n",
        "  var = 2.0\n",
        "print(\"Con toda la estructura:\",var)\n",
        "\n",
        "var = 1.0 if select==0 else 2.0\n",
        "\n",
        "print(\"Con una sola línea:\",var)"
      ],
      "execution_count": null,
      "outputs": [
        {
          "output_type": "stream",
          "text": [
            "Con toda la estructura: 1.0\n",
            "Con una sola línea: 1.0\n"
          ],
          "name": "stdout"
        }
      ]
    },
    {
      "cell_type": "markdown",
      "metadata": {
        "id": "I-68HcFbHTUM"
      },
      "source": [
        "## Comprimir un ciclo\n",
        "\n",
        "Los ciclos **for** suelen usarse mucho para definir una lista u otro objeto iterable, por ejemplo crear una lista con los cuadrados de los números pares de 0 a 10. Esto también es posible hacer en una sola línea:"
      ]
    },
    {
      "cell_type": "code",
      "metadata": {
        "id": "Bcu2iUcLHy9s",
        "colab": {
          "base_uri": "https://localhost:8080/"
        },
        "outputId": "ea6cc8e8-bfe3-49e5-f45d-368771b884ef"
      },
      "source": [
        "lista = []\n",
        "for i in range(0,11,2):\n",
        "  lista.append(i**2)\n",
        "print(\"Con toda la estructura:\",lista)\n",
        "\n",
        "lista = [i**2 for i in range(0,11,2)]\n",
        "print(\"Con una sóla línea:\",lista)\n",
        "\n",
        "print(\"Creando un diccionario en una sola línea\")\n",
        "dicc = { str(2*i)+'^2':lista[i] for i in range(0,len(lista)) }\n",
        "print(dicc)"
      ],
      "execution_count": null,
      "outputs": [
        {
          "output_type": "stream",
          "text": [
            "Con toda la estructura: [0, 4, 16, 36, 64, 100]\n",
            "Con una sóla línea: [0, 4, 16, 36, 64, 100]\n",
            "Creando un diccionario en una sola línea\n",
            "{'0^2': 0, '2^2': 4, '4^2': 16, '6^2': 36, '8^2': 64, '10^2': 100}\n"
          ],
          "name": "stdout"
        }
      ]
    },
    {
      "cell_type": "markdown",
      "metadata": {
        "id": "CEX8vDdMKZ-m"
      },
      "source": [
        "## Comprimir ciclos y condicionales al mismo tiempo\n",
        "\n",
        "En muchos casos un **for** se usa junto con condicionales **if/else** para crear iterables que responden a dos condiciones o para filtrar y crear una nueva lista:"
      ]
    },
    {
      "cell_type": "code",
      "metadata": {
        "id": "3zbIhV9OMGft",
        "colab": {
          "base_uri": "https://localhost:8080/"
        },
        "outputId": "2dffe6b5-abde-4397-a84a-f0682fea2ee2"
      },
      "source": [
        "lista = []\n",
        "for i in range(0,10):\n",
        "  if i%2==0:\n",
        "    lista.append(2*i)\n",
        "  else:\n",
        "    lista.append(3*i)\n",
        "\n",
        "print(\"Con toda la estructura:\",lista)\n",
        "\n",
        "lista = [2*i if i%2==0 else 3*i for i in range(0,10)]\n",
        "\n",
        "print(\"Con una sóla línea:\",lista)"
      ],
      "execution_count": null,
      "outputs": [
        {
          "output_type": "stream",
          "text": [
            "Con toda la estructura: [0, 3, 4, 9, 8, 15, 12, 21, 16, 27]\n",
            "Con una sóla línea: [0, 3, 4, 9, 8, 15, 12, 21, 16, 27]\n"
          ],
          "name": "stdout"
        }
      ]
    },
    {
      "cell_type": "code",
      "metadata": {
        "id": "r-dsM_gINXYe",
        "colab": {
          "base_uri": "https://localhost:8080/"
        },
        "outputId": "b11c1cba-ee6b-4575-a1cc-c03a63f8236e"
      },
      "source": [
        "nombres = ['Juan','Sergio','Luis','Mauricio','Claudia','Diana','José','Dana']\n",
        "nombres_4letras = [nombre for nombre in nombres if len(nombre)==4]\n",
        "nombres_4letras"
      ],
      "execution_count": null,
      "outputs": [
        {
          "output_type": "execute_result",
          "data": {
            "text/plain": [
              "['Juan', 'Luis', 'José', 'Dana']"
            ]
          },
          "metadata": {
            "tags": []
          },
          "execution_count": 43
        }
      ]
    },
    {
      "cell_type": "markdown",
      "metadata": {
        "id": "Mfa6qIc-PMrL"
      },
      "source": [
        "## Ejercicios listas comprimidas\n"
      ]
    },
    {
      "cell_type": "markdown",
      "metadata": {
        "id": "PmQ_wwc7U6do"
      },
      "source": [
        "Resolvamos el ejercicio de la contraseña con unas pocas líneas\n",
        "\n",
        "\n",
        "\n",
        "\n",
        "\n"
      ]
    },
    {
      "cell_type": "markdown",
      "metadata": {
        "id": "bhefflVIiOlq"
      },
      "source": [
        "# **Ejercicios Taller**"
      ]
    },
    {
      "cell_type": "code",
      "metadata": {
        "id": "ZwUJNLVWiZlp"
      },
      "source": [
        "#@title La estructura cíclica\n",
        "\n",
        "#@markdown Ingresa una \"contraseña\" con por lo menos una mayúsculas, minúsculas, números y símbolos sin espacios\n",
        "password =  \"PAssWORD_123$\"#@param {type:\"string\"}"
      ],
      "execution_count": null,
      "outputs": []
    },
    {
      "cell_type": "code",
      "metadata": {
        "id": "9B4uDTQSieJY",
        "colab": {
          "base_uri": "https://localhost:8080/"
        },
        "outputId": "b390fe4e-4593-40df-b7fd-79a025b4371d"
      },
      "source": [
        "es_correcta = True\n",
        "es_minus = 0\n",
        "es_mayus = 0\n",
        "es_num = 0\n",
        "es_sim = 0\n",
        "for letra in password:\n",
        "  if letra.isspace():\n",
        "    es_correcta = False\n",
        "    break\n",
        "  elif letra.islower():\n",
        "    es_minus += 1 \n",
        "  elif letra.isupper():\n",
        "    es_mayus += 1 \n",
        "  elif letra.isdigit():\n",
        "    es_num += 1\n",
        "  else:\n",
        "    es_sim += 1 \n",
        "  \n",
        "if es_minus == 0 or es_mayus==0 or es_sim==0 or es_num==0:\n",
        "  es_correcta = False\n",
        "print(\"¿La contraseña es correcta?\",es_correcta)"
      ],
      "execution_count": null,
      "outputs": [
        {
          "output_type": "stream",
          "text": [
            "¿La contraseña es correcta? True\n"
          ],
          "name": "stdout"
        }
      ]
    },
    {
      "cell_type": "code",
      "metadata": {
        "id": "nshGJ1TkihuS",
        "colab": {
          "base_uri": "https://localhost:8080/"
        },
        "outputId": "a6c2469d-460a-4019-df03-ae2c6cd8d9aa"
      },
      "source": [
        "es_correcta = True if password.find(' ')==-1 else False\n",
        "\n",
        "if es_correcta:\n",
        "  es_minus = [letra for letra in password if letra.islower()]\n",
        "  es_mayus = [letra for letra in password if letra.isupper()]\n",
        "  es_num = [letra for letra in password if letra.isdigit()]\n",
        "  es_sim = [letra for letra in password if not letra.isalnum() and not letra.isdigit()]\n",
        "  if len(es_minus) == 0 or len(es_mayus)==0 or len(es_sim)==0 or len(es_num)==0:\n",
        "    es_correcta = False\n",
        "\n",
        "print(\"¿La contraseña es correcta?\",es_correcta)"
      ],
      "execution_count": null,
      "outputs": [
        {
          "output_type": "stream",
          "text": [
            "¿La contraseña es correcta? True\n"
          ],
          "name": "stdout"
        }
      ]
    },
    {
      "cell_type": "markdown",
      "metadata": {
        "id": "wT6P-wIa3PcI"
      },
      "source": [
        "# **Hagamos álgebra con numpy** \n"
      ]
    },
    {
      "cell_type": "markdown",
      "metadata": {
        "id": "sfumzcUhX5zO"
      },
      "source": [
        "\n",
        "En el módulo de numpy hay una gran cantidad de funciones no sólo de álgebra [lineal](https://numpy.org/devdocs/reference/routines.linalg.html) también de medidas estadísticas y otras."
      ]
    },
    {
      "cell_type": "markdown",
      "metadata": {
        "id": "lkdA9xi6hwOr"
      },
      "source": [
        "En numpy, gracias a los **arrays** podemos representar objetos matemáticos como los vectores y la matrices. \n",
        "Los vectore suelen representarse como:\n",
        "\n",
        "$${\\mathbf  {V}}= v_{1}{\\mathbf  {e_1}}+v_{2}{\\mathbf  {e_2}}+v_{3}{\\mathbf  {e_3}} + \\dots +  v_{n}{\\mathbf  {e_n}}$$\n",
        "\n",
        "Conocemos las matrices como objetos de la forma:\n",
        "\n",
        "\n",
        "\\begin{equation}\n",
        " \\mathbf{M}=\n",
        "  \\left[ {\\begin{array}{cc}\n",
        "   m_{11} & m_{12} & ... & m_{1\\mu} \\\\\n",
        "   m_{21} & m_{22} & ... & m_{2\\mu} \\\\\n",
        "   . & . & ... & .\\\\\n",
        "   . & . & ... & .\\\\\n",
        "   . & . & ... & .\\\\\n",
        "   m_{\\nu 1} & m_{\\nu2} & ... & m_{\\nu\\mu} \n",
        "  \\end{array} } \\right]\n",
        "\\end{equation}"
      ]
    },
    {
      "cell_type": "markdown",
      "metadata": {
        "id": "DXZXWNM2jm1s"
      },
      "source": [
        "##Vectores"
      ]
    },
    {
      "cell_type": "code",
      "metadata": {
        "id": "LQ4ZjldPilq_"
      },
      "source": [
        "import numpy as np\n",
        "import math \n",
        "#Trabajando con un array en forma de vector\n",
        "v1 = np.array([3,2,7])\n",
        "v2 = np.array([np.e,2,np.pi])\n",
        "#v1+v2 --> tiene que tener el mismo shape"
      ],
      "execution_count": null,
      "outputs": []
    },
    {
      "cell_type": "code",
      "metadata": {
        "id": "XVWt4V-vitYk",
        "colab": {
          "base_uri": "https://localhost:8080/"
        },
        "outputId": "bcd9f39f-62cb-4c8f-cd32-7fafe2a72bbe"
      },
      "source": [
        "#Suma y resta de vectores\n",
        "print(\"v1 + v2\")\n",
        "print(v1 + v2) \n",
        "#Producto por un escalar\n",
        "print(\"5 * v1\")\n",
        "print(5 * v1)\n",
        "#Producto punto\n",
        "print(\"v1 . v2\")\n",
        "print(v1.dot(v2))\n"
      ],
      "execution_count": null,
      "outputs": [
        {
          "output_type": "stream",
          "text": [
            "v1 + v2\n",
            "[ 5.71828183  4.         10.14159265]\n",
            "5 * v1\n",
            "[15 10 35]\n",
            "v1 . v2\n",
            "34.145994060505686\n"
          ],
          "name": "stdout"
        }
      ]
    },
    {
      "cell_type": "code",
      "metadata": {
        "id": "jr_jb558dGyN",
        "colab": {
          "base_uri": "https://localhost:8080/"
        },
        "outputId": "b06086d8-522a-4cd6-f8eb-4997cf8437e8"
      },
      "source": [
        "#Producto vectorial\n",
        "print(\"v1 x v2\")\n",
        "print(np.cross(v1,v2))\n",
        "#Norma de un vector\n",
        "print(\"||v1||\")\n",
        "print(np.linalg.norm(v1, ord=2))\n",
        "#Gradiente de un vector\n",
        "print(\"dv1/dx\")\n",
        "print(np.gradient(v1))"
      ],
      "execution_count": null,
      "outputs": [
        {
          "output_type": "stream",
          "text": [
            "v1 x v2\n",
            "[-7.71681469  9.60319484  0.56343634]\n",
            "||v1||\n",
            "7.874007874011811\n",
            "dv1/dx\n",
            "[-1.  2.  5.]\n"
          ],
          "name": "stdout"
        }
      ]
    },
    {
      "cell_type": "markdown",
      "metadata": {
        "id": "0vRV7X_bjpxd"
      },
      "source": [
        "##Matrices"
      ]
    },
    {
      "cell_type": "code",
      "metadata": {
        "id": "zBa0jTTWjuWk"
      },
      "source": [
        "A = np.array([[1,2,5],[9,6,2],[1,4,7]]) \n",
        "B = np.array([[2,4,4],[9,7,2],[2,3,4]]) \n",
        "C = np.array([[9,4],[2,3],[1,2]])"
      ],
      "execution_count": null,
      "outputs": []
    },
    {
      "cell_type": "code",
      "metadata": {
        "id": "boFk16sK_AIj"
      },
      "source": [
        "def nice_print(A):\n",
        "  print(' '+np.array2string(A)[1:-1])"
      ],
      "execution_count": null,
      "outputs": []
    },
    {
      "cell_type": "code",
      "metadata": {
        "id": "_e4rNh2Zkxfc",
        "colab": {
          "base_uri": "https://localhost:8080/"
        },
        "outputId": "dc5b63c9-750c-4c6b-e1a1-9a9265d57f87"
      },
      "source": [
        "#Suma matrices\n",
        "print(\"A+B\")\n",
        "nice_print(A+B)\n",
        "#Producto por un escalar\n",
        "print(\"3*C\")\n",
        "nice_print(3 * C)\n",
        "#Producto por un vector\n",
        "x = np.array([1,6,8])\n",
        "b = A.dot(x.T)\n",
        "print(\"A*x\")\n",
        "print(b)"
      ],
      "execution_count": null,
      "outputs": [
        {
          "output_type": "stream",
          "text": [
            "A+B\n",
            " [ 3  6  9]\n",
            " [18 13  4]\n",
            " [ 3  7 11]\n",
            "3*C\n",
            " [27 12]\n",
            " [ 6  9]\n",
            " [ 3  6]\n",
            "A*x\n",
            "[53 61 81]\n"
          ],
          "name": "stdout"
        }
      ]
    },
    {
      "cell_type": "code",
      "metadata": {
        "id": "wXVNEh4UeG7t",
        "colab": {
          "base_uri": "https://localhost:8080/"
        },
        "outputId": "8931da95-1615-42a8-9b9d-d93ef4191876"
      },
      "source": [
        "#Producto por otra matriz\n",
        "print(\"A*C\")\n",
        "nice_print(A.dot(C))\n",
        "#Determinante de la matriz\n",
        "print(\"|B|\")\n",
        "nice_print(np.linalg.det(B))\n",
        "#Inversa de la matriz\n",
        "print(\"A^(-1)\")\n",
        "nice_print(np.linalg.inv(A))"
      ],
      "execution_count": null,
      "outputs": [
        {
          "output_type": "stream",
          "text": [
            "A*C\n",
            " [18 20]\n",
            " [95 58]\n",
            " [24 30]\n",
            "|B|\n",
            " 32\n",
            "A^(-1)\n",
            " [ 0.5483871   0.09677419 -0.41935484]\n",
            " [-0.98387097  0.03225806  0.69354839]\n",
            " [ 0.48387097 -0.03225806 -0.19354839]\n"
          ],
          "name": "stdout"
        }
      ]
    },
    {
      "cell_type": "code",
      "metadata": {
        "id": "pb5wfrpMA0PD",
        "colab": {
          "base_uri": "https://localhost:8080/"
        },
        "outputId": "952f8eab-3fe3-4081-b56d-335e3f3d02e2"
      },
      "source": [
        "#Resolver un sistema\n",
        "print('A*x = b \\n',b)\n",
        "print('La solución es \\n', np.linalg.solve(A,b))\n",
        "print('El número de condición de A',np.linalg.cond(A))"
      ],
      "execution_count": null,
      "outputs": [
        {
          "output_type": "stream",
          "text": [
            "A*x = b \n",
            " [53 61 81]\n",
            "La solución es \n",
            " [1. 6. 8.]\n",
            "El número de condición de A 19.035066375227434\n"
          ],
          "name": "stdout"
        }
      ]
    },
    {
      "cell_type": "code",
      "metadata": {
        "id": "eveh_E6YmU2q",
        "colab": {
          "base_uri": "https://localhost:8080/"
        },
        "outputId": "9c5eb94a-9b2a-43ff-fb20-706eeadad9c6"
      },
      "source": [
        "A1 = np.array([[3.02, -1.05, 2.53], [4.33, 0.56, -1.78], [-0.83, -0.54, 1.47]])\n",
        "print('El k(A1):',np.linalg.cond(A1))\n",
        "A2 = np.array([[1, 0, -1], [0, 1, 0], [1, 0, 1]])\n",
        "print('El k(A2):',np.linalg.cond(A2))"
      ],
      "execution_count": null,
      "outputs": [
        {
          "output_type": "stream",
          "text": [
            "El k(A1): 4293.532039912183\n",
            "El k(A2): 1.4142135623730951\n"
          ],
          "name": "stdout"
        }
      ]
    },
    {
      "cell_type": "code",
      "metadata": {
        "id": "oBJgFuq5mXy4",
        "colab": {
          "base_uri": "https://localhost:8080/"
        },
        "outputId": "18477b41-7b03-4662-ab52-7130ede4b91c"
      },
      "source": [
        "x = np.array([1,2,-1])\n",
        "b1 = np.dot(A1,x)\n",
        "b2 = np.dot(A2,x)\n",
        "print('A1*x = b1 \\n',b1)\n",
        "print('A2*x = b2 \\n',b2)"
      ],
      "execution_count": null,
      "outputs": [
        {
          "output_type": "stream",
          "text": [
            "A1*x = b1 \n",
            " [-1.61  7.23 -3.38]\n",
            "A2*x = b2 \n",
            " [2 2 0]\n"
          ],
          "name": "stdout"
        }
      ]
    },
    {
      "cell_type": "code",
      "metadata": {
        "id": "ghriLF-QmZ8N",
        "colab": {
          "base_uri": "https://localhost:8080/"
        },
        "outputId": "34a7bef1-00b0-4e40-a1a5-3d7229c276fe"
      },
      "source": [
        "x1 = np.linalg.solve(A1,b1)\n",
        "x2 = np.linalg.solve(A2,b2)\n",
        "print('x1 \\n',x1)\n",
        "print('x2 \\n',x2)"
      ],
      "execution_count": null,
      "outputs": [
        {
          "output_type": "stream",
          "text": [
            "x1 \n",
            " [ 1.  2. -1.]\n",
            "x2 \n",
            " [ 1.  2. -1.]\n"
          ],
          "name": "stdout"
        }
      ]
    },
    {
      "cell_type": "code",
      "metadata": {
        "id": "aah5udzmmuN-",
        "colab": {
          "base_uri": "https://localhost:8080/"
        },
        "outputId": "0694c8bf-b1f6-43ad-92bb-274608b718b6"
      },
      "source": [
        "x1 = np.linalg.solve(A1,b1+0.01)\n",
        "x2 = np.linalg.solve(A2,b2+0.01)\n",
        "print('x1 \\n',x1)\n",
        "print('x2 \\n',x2)"
      ],
      "execution_count": null,
      "outputs": [
        {
          "output_type": "stream",
          "text": [
            "x1 \n",
            " [ 0.79837552 -5.37666653 -3.81683554]\n",
            "x2 \n",
            " [ 1.01  2.01 -1.  ]\n"
          ],
          "name": "stdout"
        }
      ]
    },
    {
      "cell_type": "markdown",
      "metadata": {
        "id": "YPsHLWGPuE92"
      },
      "source": [
        "### Ejercicio de ecuaciones lineales\n",
        "Un estudio en un barrio de la ciudad arrojó que el valor de una casa depende linealmente del área en metros cuadrados, el perímetro en metros y el negativo de la distancia en hectómetros a un centro comercial en dicho barrio. Suponga que se tiene información sobre 3 casas.\n",
        "\n",
        "- De la primera solo se conoce que cuesta $150$ millones de pesos.\n",
        "- De la segunda se sabe que tiene el doble $(2)$ del Área, $2.3$ veces el perímetro y $4$ veces la distancia al centro comercial de la primera casa; además tiene un precio de $180$ millones de pesos\n",
        "- De la segunda se sabe que tiene el doble $(1.5)$ del Área, $2.6$ veces el perímetro y $2$ veces la distancia al centro comercial de la segunda casa. Esta última casa vale $220$ Millones de pesos.\n",
        "\n",
        "¿Cuáles serán entonces las características de area perímetro y distancia al C.C. de la primera casa?"
      ]
    },
    {
      "cell_type": "markdown",
      "metadata": {
        "id": "k-VmaIO7rP9V"
      },
      "source": [
        "###Ejercicio de matrices inversas\n",
        "\n",
        "Use `np.linspace` para crear matrices cuadradas de 2x2, 7x7, 10x10, y verifique que la multiplicación por su matriz inversa es la identidad.  "
      ]
    },
    {
      "cell_type": "markdown",
      "metadata": {
        "id": "stjuB7BSBNxd"
      },
      "source": [
        "# **Matplolib**\n",
        "\n",
        "¿Qué es [Matplotlib](https://matplotlib.org/)?\n",
        "\n",
        "* Paquete fundamental para el trabajo científico en python.\n",
        "\n",
        "* Contiene funciones y módulos para graficar y vizualizar datos de forma rápida y sencilla.\n",
        "\n",
        "* Permite la generación de gráficos a partir de datos contenidos en listas o arrays.\n"
      ]
    },
    {
      "cell_type": "code",
      "metadata": {
        "id": "R0MLAZTRBQAF",
        "colab": {
          "base_uri": "https://localhost:8080/",
          "height": 265
        },
        "outputId": "576acd91-9db9-457a-f7c0-f10450c05c50"
      },
      "source": [
        "import numpy as np\n",
        "import matplotlib.pyplot as plt\n",
        "\n",
        "#Vamos a graficar la función f(x) = sin x\n",
        "x = np.linspace(0,2*np.pi,360)\n",
        "fx = np.sin(x)\n",
        "\n",
        "plt.figure() #Primero llamamos a la figura\n",
        "plt.plot(x,fx) #dibujo 2d x,y puntos y líneas\n",
        "plt.show()#Este comando es para mostrar la figura (no es necesario en jupyter pero sí con un script)"
      ],
      "execution_count": null,
      "outputs": [
        {
          "output_type": "display_data",
          "data": {
            "image/png": "[encoded data removed]",
            "text/plain": [
              "<Figure size 432x288 with 1 Axes>"
            ]
          },
          "metadata": {
            "tags": [],
            "needs_background": "light"
          }
        }
      ]
    },
    {
      "cell_type": "markdown",
      "metadata": {
        "id": "Ms215gLlz41F"
      },
      "source": [
        "## Objetos importantes en pyplot\n",
        "\n",
        "Así cómo Numpy tiene los **array** cómo objetos importantes, pyplot cuenta con dos que vamos a destacar **Figure** y **Axes**\n",
        "\n",
        "[Ver más](https://matplotlib.org/3.1.1/tutorials/introductory/usage.html#sphx-glr-tutorials-introductory-usage-py)\n",
        "\n",
        "![texto alternativo](https://matplotlib.org/3.1.1/_images/anatomy.png)\n",
        "\n",
        "```python\n",
        "matplotlib.pyplot.figure(num=None, figsize=None, dpi=None, \n",
        "facecolor=None, edgecolor=None, frameon=True, FigureClass=<class \n",
        "'matplotlib.figure.Figure'>, clear=False, **kwargs)\n",
        "\n",
        "class matplotlib.figure.Figure(figsize=None, dpi=None, facecolor=None,\n",
        " edgecolor=None, linewidth=0.0, frameon=None, subplotpars=None, \n",
        " tight_layout=None, constrained_layout=None)[source]\n",
        "```"
      ]
    },
    {
      "cell_type": "code",
      "metadata": {
        "id": "3Wa4Ja3Ez3El",
        "colab": {
          "base_uri": "https://localhost:8080/",
          "height": 265
        },
        "outputId": "3785565b-cfea-4b41-a8f4-434a95088251"
      },
      "source": [
        "x = np.linspace(0,2*np.pi,360)\n",
        "fx = np.sin(x)\n",
        "gx = np.cos(x)\n",
        "\n",
        "#En la misma figura\n",
        "fig1 = plt.figure(figsize=(15,4),facecolor=\"red\")\n",
        "plt.plot(x,fx)\n",
        "plt.plot(x,gx)\n",
        "plt.show()\n"
      ],
      "execution_count": null,
      "outputs": [
        {
          "output_type": "display_data",
          "data": {
            "image/png": "[encoded data removed]",
            "text/plain": [
              "<Figure size 1080x288 with 1 Axes>"
            ]
          },
          "metadata": {
            "tags": []
          }
        }
      ]
    },
    {
      "cell_type": "code",
      "metadata": {
        "id": "WBjwNYOq0hFG",
        "colab": {
          "base_uri": "https://localhost:8080/",
          "height": 529
        },
        "outputId": "e3507c41-8031-434b-ca0e-272f68d47ad3"
      },
      "source": [
        "#En figuras diferentes \n",
        "fig1 = plt.figure(figsize=(10,4))\n",
        "plt.plot(x,fx)\n",
        "plt.title(\"Sin x\")\n",
        "\n",
        "fig2 = plt.figure(figsize=(15,4))\n",
        "plt.plot(x,gx)\n",
        "plt.grid()\n",
        "\n",
        "plt.show()"
      ],
      "execution_count": null,
      "outputs": [
        {
          "output_type": "display_data",
          "data": {
            "image/png": "[encoded data removed]",
            "text/plain": [
              "<Figure size 720x288 with 1 Axes>"
            ]
          },
          "metadata": {
            "tags": [],
            "needs_background": "light"
          }
        },
        {
          "output_type": "display_data",
          "data": {
            "image/png": "[encoded data removed]",
            "text/plain": [
              "<Figure size 1080x288 with 1 Axes>"
            ]
          },
          "metadata": {
            "tags": [],
            "needs_background": "light"
          }
        }
      ]
    },
    {
      "cell_type": "markdown",
      "metadata": {
        "id": "x7QWgWF02NHF"
      },
      "source": [
        "Figure es una clase con varios métodos importantes (más información en este [link](https://matplotlib.org/3.1.1/api/_as_gen/matplotlib.figure.Figure.html#matplotlib.figure.Figure)). El módulo [pyplot](https://matplotlib.org/api/pyplot_api.html) tiene varias funciones para trabajar.  \n",
        "\n",
        "Uno de ellos en agregar un conjunto de ejes y con ello se puede cambiar la proyección, otro te permite cambiar el color del fondo, por ejemplo: "
      ]
    },
    {
      "cell_type": "code",
      "metadata": {
        "id": "Gmi2jJc00uFM",
        "colab": {
          "base_uri": "https://localhost:8080/",
          "height": 605
        },
        "outputId": "e664b76d-33c5-415c-ea49-38a8bea36d2a"
      },
      "source": [
        "x = np.linspace(0,2*np.pi,360)\n",
        "fx = np.sin(x)\n",
        "\n",
        "fig1 = plt.figure('Cartesianas',figsize=(10,4),facecolor=\"red\")\n",
        "plt.plot(x,fx, figure=fig1)\n",
        "fig1.patch.set_facecolor('green')\n",
        "\n",
        "rect = 4, 5, 2, 1\n",
        "fig2 = plt.figure('Polares', facecolor=\"red\")\n",
        "fig2.add_axes(rect, polar=True, label='aja')\n",
        "plt.plot(x,fx,figure=fig2)\n",
        "plt.show()"
      ],
      "execution_count": null,
      "outputs": [
        {
          "output_type": "display_data",
          "data": {
            "image/png": "[encoded data removed]",
            "text/plain": [
              "<Figure size 720x288 with 1 Axes>"
            ]
          },
          "metadata": {
            "tags": []
          }
        },
        {
          "output_type": "display_data",
          "data": {
            "image/png": "[encoded data removed]",
            "text/plain": [
              "<Figure size 432x288 with 1 Axes>"
            ]
          },
          "metadata": {
            "tags": []
          }
        }
      ]
    },
    {
      "cell_type": "markdown",
      "metadata": {
        "id": "_0HV2zI_3XGY"
      },
      "source": [
        "La clase Axes suele usada cuando se quieran hacer cosas especiales, mientras Figure hace referencia a la plantilla principal, Axes lo hace sobre cambios en los ejes. \n",
        "\n",
        "![texto alternativo](https://images.squarespace-cdn.com/content/v1/5632dd3ee4b0c1d58a555ac6/1520701350688-NN6IZ1QBLN9CI19SYGEO/ke17ZwdGBToddI8pDm48kGsKZpmC1NIpxC6Ey4gWpUkUqsxRUqqbr1mOJYKfIPR7LoDQ9mXPOjoJoqy81S2I8N_N4V1vUb5AoIIIbLZhVYxCRW4BPu10St3TBAUQYVKcL0EOuQxJW8jz5VARRtyW0oMsAwTGoUdDKXVXiGlFPB5uqbfZ229fpVNTof1xqPXM/simplerSubplots_MATLAB.png?format=750w)\n",
        "\n",
        "Por ejemplo pensemos en la gráfica anterior, ambas son la misma función pero en sistemas coordenados distintos, si yo quisera las dos gráficas en una figura podría usar la función **subplot** que me devuelve un Axes:"
      ]
    },
    {
      "cell_type": "code",
      "metadata": {
        "id": "U0z7hV8q4jfo",
        "colab": {
          "base_uri": "https://localhost:8080/",
          "height": 326
        },
        "outputId": "5f8a06c2-f472-4b6a-c9b3-114d8baa26ea"
      },
      "source": [
        "x = np.linspace(0,2*np.pi,360)\n",
        "fx = np.sin(x)\n",
        "\n",
        "fig1 = plt.figure('Seno en cartesians y polares',figsize=(15,5),facecolor=\"r\")\n",
        "#subplot (#filas,#columnas,#figura)\n",
        "ax1 = plt.subplot(1,3,1)\n",
        "ax1.plot(x,fx)\n",
        "ax2 = plt.subplot(1,3,2,projection='polar')\n",
        "ax2.plot(x,fx)\n",
        "ax3 = plt.subplot(1,3,3)\n",
        "plt.show()"
      ],
      "execution_count": null,
      "outputs": [
        {
          "output_type": "display_data",
          "data": {
            "image/png": "[encoded data removed]",
            "text/plain": [
              "<Figure size 1080x360 with 3 Axes>"
            ]
          },
          "metadata": {
            "tags": []
          }
        }
      ]
    },
    {
      "cell_type": "code",
      "metadata": {
        "id": "z4tX_L5Pe-zk",
        "colab": {
          "base_uri": "https://localhost:8080/",
          "height": 341
        },
        "outputId": "510f73c4-2a32-4aed-934e-99f0b4dc31a2"
      },
      "source": [
        "fig1 = plt.figure('Seno en cartesians y polares',figsize=(15,5),facecolor=\"r\")\n",
        "#subplot (#filas,#columnas,#figura)\n",
        "ax1 = plt.subplot(2,2,1)\n",
        "ax1.plot(x,fx)\n",
        "ax2 = plt.subplot(1,2,2,projection='polar')\n",
        "ax2.plot(x,fx)\n",
        "ax3 = plt.subplot(2,2,3)\n",
        "plt.show()"
      ],
      "execution_count": null,
      "outputs": [
        {
          "output_type": "display_data",
          "data": {
            "image/png": "[encoded data removed]",
            "text/plain": [
              "<Figure size 1080x360 with 3 Axes>"
            ]
          },
          "metadata": {
            "tags": []
          }
        }
      ]
    },
    {
      "cell_type": "markdown",
      "metadata": {
        "id": "4EKx_B_Z5_KF"
      },
      "source": [
        "En el caso anterior, generalmente se usa:\n",
        "```python\n",
        "plt.figure('Seno en cartesians y polares',figsize=(10,5))\n",
        "plt.subplot(1,2,1)\n",
        "plt.plot(x,fx)\n",
        "plt.subplot(1,2,2,projection='polar')\n",
        "plt.plot(x,fx)\n",
        "plt.show()\n",
        "```\n",
        "En este caso los la función hace lo mismo pero no se relaciona ninguna variable con cada eje, dado a que la clase tiene más métodos especiales para hacer más cosas en estos casos, retornar puede ser muy útil. Por ejemplo si quiero en una misma figura las funciones de seno y coseno pero que compartar el eje y podría usar **subplots**: "
      ]
    },
    {
      "cell_type": "code",
      "metadata": {
        "id": "2OB8Xxxa7EYN",
        "colab": {
          "base_uri": "https://localhost:8080/",
          "height": 320
        },
        "outputId": "8fdbc51c-e5fe-49c6-8b0c-a1d6a13dd37f"
      },
      "source": [
        "#subplots --> devuelve fig y arreglo de ax\n",
        "#subplots nrow, ncol\n",
        "fig, [ax1, ax2] = plt.subplots(1, 2, sharey=True, figsize=(10,5))\n",
        "ax1.plot(x,fx)\n",
        "ax2.plot(x,gx)\n",
        "plt.show()"
      ],
      "execution_count": null,
      "outputs": [
        {
          "output_type": "display_data",
          "data": {
            "image/png": "[encoded data removed]",
            "text/plain": [
              "<Figure size 720x360 with 2 Axes>"
            ]
          },
          "metadata": {
            "tags": [],
            "needs_background": "light"
          }
        }
      ]
    },
    {
      "cell_type": "code",
      "metadata": {
        "id": "qlVD3pgHD9ea",
        "colab": {
          "base_uri": "https://localhost:8080/",
          "height": 320
        },
        "outputId": "0c81018c-d188-4a63-b516-4180fc216139"
      },
      "source": [
        "x = np.linspace(0,2*np.pi,360)\n",
        "y = np.sin(x)\n",
        "\n",
        "fig1 = plt.figure('Seno y su derivada',figsize=(15,5))\n",
        "ax1 = plt.subplot(2,2,1)\n",
        "ax1.plot(x,y)\n",
        "ax2 = plt.subplot(2,2,2)\n",
        "ax2.plot(x,np.gradient(y))\n",
        "\n",
        "x = np.linspace(0,2*np.pi,3600)\n",
        "y = np.sin(x)\n",
        "ax1 = plt.subplot(2,2,3)\n",
        "ax1.plot(x,np.gradient(y))\n",
        "\n",
        "x = np.linspace(0,2*np.pi,1000)\n",
        "y = np.sin(x)\n",
        "ax2 = plt.subplot(2,2,4)\n",
        "ax2.plot(x,np.gradient(y))\n",
        "plt.show()"
      ],
      "execution_count": null,
      "outputs": [
        {
          "output_type": "display_data",
          "data": {
            "image/png": "[encoded data removed]",
            "text/plain": [
              "<Figure size 1080x360 with 4 Axes>"
            ]
          },
          "metadata": {
            "tags": [],
            "needs_background": "light"
          }
        }
      ]
    },
    {
      "cell_type": "markdown",
      "metadata": {
        "id": "ULweWiRiRiH-"
      },
      "source": [
        "[Matplotlib tickers](https://matplotlib.org/api/ticker_api.html?highlight=tickers)"
      ]
    },
    {
      "cell_type": "code",
      "metadata": {
        "id": "FBTA-8EHEgQQ",
        "colab": {
          "base_uri": "https://localhost:8080/",
          "height": 339
        },
        "outputId": "57ebaa69-c1f5-4491-ac9d-60145d8396d7"
      },
      "source": [
        "import matplotlib.ticker as tck\n",
        "\n",
        "x = np.linspace(0,2*np.pi,360)\n",
        "fx = np.sin(x)\n",
        "gx = np.cos(x)\n",
        "fig, [ax1,ax2] = plt.subplots(1,2,figsize=(15,5))\n",
        "\n",
        "ax1.plot(x,fx, \"ro--\")\n",
        "# x, y, \"abc\"\n",
        "#a --> color (r=red,g=green,b=blue,k=black,y=yellow...)\n",
        "#b --> marker (o=circulo,t=triangulo,s=cuadrado)\n",
        "#c --> linestyle (\" \"=sin línea, \"--\"=punteada..)\n",
        "\n",
        "ax1.set_title(\"sin(x) vs x\",fontsize = 14)\n",
        "ax1.grid()\n",
        "\n",
        "#Opción 1\n",
        "ax1.set_xticks([0,1,2,5.6,6])\n",
        "#ax1.set_xticks([str(i)+\"pi\" for i in fraccpi])\n",
        "ax2.plot(x,gx,\"k-.\")\n",
        "#Formato\n",
        "#tck.FormatStrFormatter('%g $\\pi$') --> f(tick) --> \"%g $\\pi$\"\n",
        "#tck.FuncFormatter\n",
        "ax2.xaxis.set_major_formatter(tck.FuncFormatter(lambda x,i: str(x/np.pi) +'$\\pi$'))\n",
        "#Localizador de ticks\n",
        "ax2.xaxis.set_major_locator(tck.MultipleLocator(base=0.25*np.pi))\n",
        "\n",
        "plt.show()"
      ],
      "execution_count": null,
      "outputs": [
        {
          "output_type": "display_data",
          "data": {
            "image/png": "[encoded data removed]",
            "text/plain": [
              "<Figure size 1080x360 with 2 Axes>"
            ]
          },
          "metadata": {
            "tags": [],
            "needs_background": "light"
          }
        }
      ]
    },
    {
      "cell_type": "code",
      "metadata": {
        "id": "97T2I3d9QxJE"
      },
      "source": [
        ""
      ],
      "execution_count": null,
      "outputs": []
    }
  ]
}